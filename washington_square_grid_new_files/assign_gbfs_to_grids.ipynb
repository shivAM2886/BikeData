{
  "nbformat": 4,
  "nbformat_minor": 0,
  "metadata": {
    "colab": {
      "name": "assign_gbfs_to_grids.ipynb",
      "provenance": []
    },
    "kernelspec": {
      "name": "python3",
      "display_name": "Python 3"
    },
    "language_info": {
      "name": "python"
    }
  },
  "cells": [
    {
      "cell_type": "code",
      "metadata": {
        "id": "Foqz3R-GIGFR"
      },
      "source": [
        "import pandas as pd\n",
        "import numpy as np\n",
        "import sqlite3"
      ],
      "execution_count": 197,
      "outputs": []
    },
    {
      "cell_type": "code",
      "metadata": {
        "id": "eQ-rvWPFIN0U"
      },
      "source": [
        "def func_load_dataset(file_path, table_name = \"bikedata_tb\"):\n",
        "    \n",
        "    # file_path >> .db file path\n",
        "    # table_name >> table name for the .db file\n",
        "    \n",
        "    # establish connection with the .db file\n",
        "    con = sqlite3.connect(str(file_path))\n",
        "    \n",
        "    # Modify SQL query to get the required columns.\n",
        "    # columns fetched here are bike_ids, lon, lat, battery_level, my_time_stamp\n",
        "    \n",
        "    df = pd.read_sql_query(\"select bike_id, lon, lat, battery_level, my_time_stamp from \"+table_name, con)\n",
        "    \n",
        "    # IMPORTANT to close connection with the existing .db file after processing.\n",
        "    con.close()\n",
        "    return df"
      ],
      "execution_count": 198,
      "outputs": []
    },
    {
      "cell_type": "code",
      "metadata": {
        "id": "4JqvtaUYIpHD"
      },
      "source": [
        "class GetIntersectingPoints:\n",
        "\n",
        "    def __init__(self, lon, lat):\n",
        "        self.lon = lon\n",
        "        self.lat = lat\n",
        "\n",
        "        self.lat_corner1 = 38.995418\n",
        "        self.lon_corner1 = -77.041078\n",
        "\n",
        "        self.lat_corner2 = 38.892845\n",
        "        self.lon_corner2 = -76.909496\n",
        "\n",
        "        self.lat_corner3 = 38.828800\n",
        "        self.lon_corner3 = -76.9992657\n",
        "\n",
        "        self.lat_corner4 = 38.934471\n",
        "        self.lon_corner4 = -77.119045\n",
        "\n",
        "    def get_int_points_on_line12(self):\n",
        "\n",
        "        m12 = (self.lon_corner2 - self.lon_corner1) / (self.lat_corner2 - self.lat_corner1)\n",
        "        m14 = (self.lon_corner4 - self.lon_corner1) / (self.lat_corner4 - self.lat_corner1)\n",
        "\n",
        "        intersect_lon_12 = self.lon + (m14 / (m12 - m14))*(m12*(self.lat_corner1 - self.lat) + (self.lon - self.lon_corner1))\n",
        "        intersect_lat_12 = (m12*self.lat_corner1 - m14*self.lat + self.lon - self.lon_corner1) / (m12 - m14)\n",
        "\n",
        "        return intersect_lon_12, intersect_lat_12\n",
        "\n",
        "    def get_int_points_on_line14(self):\n",
        "\n",
        "        m12 = (self.lon_corner2 - self.lon_corner1)/(self.lat_corner2 - self.lat_corner1)\n",
        "        m14 = (self.lon_corner4 - self.lon_corner1)/(self.lat_corner4 - self.lat_corner1)\n",
        "\n",
        "        intersect_lon_14 = self.lon_corner1 + (m14/(m12 - m14))*(m12*(self.lat - self.lat_corner1) + (self.lon_corner1 - self.lon))\n",
        "        intersect_lat_14 = (m12*self.lat - m14*self.lat_corner1 + self.lon_corner1 - self.lon)/(m12 - m14)\n",
        "\n",
        "        return intersect_lon_14, intersect_lat_14\n",
        "\n",
        "    "
      ],
      "execution_count": 199,
      "outputs": []
    },
    {
      "cell_type": "code",
      "metadata": {
        "id": "DntfBkL1Iw1g"
      },
      "source": [
        "class ComputeDistance:\n",
        "\n",
        "    def __init__(self, lon0, lat0, lon1, lat1):\n",
        "        self.lon0 = lon0\n",
        "        self.lat0 = lat0\n",
        "\n",
        "        self.lon1 = lon1\n",
        "        self.lat1 = lat1\n",
        "\n",
        "    def calc_distance(self):\n",
        "\n",
        "        lon0 = np.radians(np.float64(self.lon0))\n",
        "        lat0 = np.radians(np.float64(self.lat0))\n",
        "\n",
        "        lon1 = np.radians(np.float64(self.lon1))\n",
        "        lat1 = np.radians(np.float64(self.lat1))\n",
        "\n",
        "        value = np.sin(lat0) * np.sin(lat1) + (np.cos(lat0) * np.cos(lat1) * np.cos(lon0 - lon1))\n",
        "        dist = 6371.01 * 1000 * np.arccos(value)\n",
        "\n",
        "        return dist"
      ],
      "execution_count": 200,
      "outputs": []
    },
    {
      "cell_type": "code",
      "metadata": {
        "id": "u8ljWD7SI0Gn"
      },
      "source": [
        "class Get12Params:\n",
        "    def __init__(self, lon, lat, steps12):\n",
        "\n",
        "        self.lon_corner1 = -77.041078\n",
        "        self.lat_corner1 = 38.995418\n",
        "\n",
        "        self.lon_corner2 = -76.909496\n",
        "        self.lat_corner2 = 38.892845\n",
        "\n",
        "        self.lat = lat\n",
        "        self.lon = lon\n",
        "        self.steps12 = steps12\n",
        "\n",
        "    def calc_params(self):\n",
        "\n",
        "        int_lon_12, int_lat_12 = GetIntersectingPoints(self.lon, self.lat).get_int_points_on_line12()\n",
        "\n",
        "        dist12 = ComputeDistance(self.lon_corner1, self.lat_corner1, self.lon_corner2, self.lat_corner2).calc_distance()\n",
        "        dist1int = ComputeDistance(self.lon_corner1, self.lat_corner1, int_lon_12, int_lat_12).calc_distance()\n",
        "        \n",
        "\n",
        "        param12 = int(np.floor((dist1int*self.steps12)/dist12))\n",
        "\n",
        "        return param12"
      ],
      "execution_count": 201,
      "outputs": []
    },
    {
      "cell_type": "code",
      "metadata": {
        "id": "XiBLuQDfI46_"
      },
      "source": [
        "class Get14Params:\n",
        "    def __init__(self, lon, lat, steps14):\n",
        "\n",
        "        self.lon_corner1 = -77.041078\n",
        "        self.lat_corner1 = 38.995418\n",
        "\n",
        "        self.lat_corner4 = 38.934471\n",
        "        self.lon_corner4 = -77.119045\n",
        "\n",
        "        self.lat = lat\n",
        "        self.lon = lon\n",
        "        self.steps14 = steps14\n",
        "\n",
        "    def calc_params(self):\n",
        "\n",
        "        int_lon_14, int_lat_14 = GetIntersectingPoints(self.lon, self.lat).get_int_points_on_line14()\n",
        "        \n",
        "        dist14 = ComputeDistance(self.lon_corner1, self.lat_corner1, self.lon_corner4, self.lat_corner4).calc_distance()\n",
        "        dist1int = ComputeDistance(self.lon_corner1, self.lat_corner1, int_lon_14, int_lat_14).calc_distance()\n",
        "\n",
        "        param14 = int(np.floor((dist1int*self.steps14)/dist14))\n",
        "\n",
        "        return param14"
      ],
      "execution_count": 202,
      "outputs": []
    },
    {
      "cell_type": "code",
      "metadata": {
        "colab": {
          "base_uri": "https://localhost:8080/"
        },
        "id": "d98awxw5JmEg",
        "outputId": "4a23437d-a82c-46fe-a065-2bde4b98ddae"
      },
      "source": [
        "import os\n",
        "df = func_load_dataset(\"bird_scooters_05_02_2020_01_09_45.db\")\n",
        "df['lon'] = df['lon'].astype(np.float64)\n",
        "df['lat'] = df['lat'].astype(np.float64)\n",
        "df.info()"
      ],
      "execution_count": 203,
      "outputs": [
        {
          "output_type": "stream",
          "text": [
            "<class 'pandas.core.frame.DataFrame'>\n",
            "RangeIndex: 238082 entries, 0 to 238081\n",
            "Data columns (total 5 columns):\n",
            " #   Column         Non-Null Count   Dtype  \n",
            "---  ------         --------------   -----  \n",
            " 0   bike_id        238082 non-null  object \n",
            " 1   lon            238082 non-null  float64\n",
            " 2   lat            238082 non-null  float64\n",
            " 3   battery_level  238082 non-null  object \n",
            " 4   my_time_stamp  238082 non-null  object \n",
            "dtypes: float64(2), object(3)\n",
            "memory usage: 9.1+ MB\n"
          ],
          "name": "stdout"
        }
      ]
    },
    {
      "cell_type": "code",
      "metadata": {
        "colab": {
          "base_uri": "https://localhost:8080/"
        },
        "id": "pAu51iE1NyaN",
        "outputId": "4d1f2bc3-57c6-4093-ca96-38e962fdf367"
      },
      "source": [
        "df_sq = pd.read_csv(\"washington_grid_square_grid_side_size_100m_updated.csv\")\n",
        "df_sq.info()"
      ],
      "execution_count": 205,
      "outputs": [
        {
          "output_type": "stream",
          "text": [
            "<class 'pandas.core.frame.DataFrame'>\n",
            "RangeIndex: 15840 entries, 0 to 15839\n",
            "Data columns (total 16 columns):\n",
            " #   Column      Non-Null Count  Dtype  \n",
            "---  ------      --------------  -----  \n",
            " 0   Unnamed: 0  15840 non-null  int64  \n",
            " 1   square_id   15840 non-null  int64  \n",
            " 2   x           15840 non-null  int64  \n",
            " 3   y           15840 non-null  int64  \n",
            " 4   lon_cor1    15840 non-null  float64\n",
            " 5   lat_cor1    15840 non-null  float64\n",
            " 6   lon_cor2    15840 non-null  float64\n",
            " 7   lat_cor2    15840 non-null  float64\n",
            " 8   lon_cor3    15840 non-null  float64\n",
            " 9   lat_cor3    15840 non-null  float64\n",
            " 10  lon_cor4    15840 non-null  float64\n",
            " 11  lat_cor4    15840 non-null  float64\n",
            " 12  x_max       15840 non-null  int64  \n",
            " 13  y_max       15840 non-null  int64  \n",
            " 14  s12         15840 non-null  int64  \n",
            " 15  s14         15840 non-null  int64  \n",
            "dtypes: float64(8), int64(8)\n",
            "memory usage: 1.9 MB\n"
          ],
          "name": "stdout"
        }
      ]
    },
    {
      "cell_type": "code",
      "metadata": {
        "id": "mmU8Vj9VVFi0"
      },
      "source": [
        "s12 = df_sq['s12'][0]\n",
        "s14 = df_sq['s14'][0]\n",
        "print(\"steps\")\n",
        "print(\"s12 \", s12, \"s14 \", s14)"
      ],
      "execution_count": 206,
      "outputs": []
    },
    {
      "cell_type": "code",
      "metadata": {
        "id": "4N6xz7GtKOvC"
      },
      "source": [
        "class assign_gbfs:\n",
        "\n",
        "  def __init__(self,df_gbfs, s12, s14):\n",
        "    self.df_gbfs = df_gbfs\n",
        "    self.s12 = s12\n",
        "    self.s14 = s14\n",
        "\n",
        "  def add_params(self):\n",
        "    temp_df = self.df_gbfs\n",
        "    temp_df['param_12'] = temp_df.apply(lambda x: Get12Params(x.lon, x.lat, self.s12).calc_params(), axis = 1)\n",
        "    temp_df['param_14'] = temp_df.apply(lambda x: Get14Params(x.lon, x.lat, self.s14).calc_params(), axis = 1)\n",
        "    return temp_df"
      ],
      "execution_count": 208,
      "outputs": []
    },
    {
      "cell_type": "code",
      "metadata": {
        "colab": {
          "base_uri": "https://localhost:8080/"
        },
        "id": "DwMWmMN_RigQ",
        "outputId": "481c5d79-9222-4882-a10e-1751ea670da1"
      },
      "source": [
        "df = assign_gbfs(df_gbfs=df, s12 = df_sq['s12'][0], s14 = df_sq['s14'][0]).add_params()\n",
        "df.info()"
      ],
      "execution_count": 209,
      "outputs": [
        {
          "output_type": "stream",
          "text": [
            "<class 'pandas.core.frame.DataFrame'>\n",
            "RangeIndex: 238082 entries, 0 to 238081\n",
            "Data columns (total 7 columns):\n",
            " #   Column         Non-Null Count   Dtype  \n",
            "---  ------         --------------   -----  \n",
            " 0   bike_id        238082 non-null  object \n",
            " 1   lon            238082 non-null  float64\n",
            " 2   lat            238082 non-null  float64\n",
            " 3   battery_level  238082 non-null  object \n",
            " 4   my_time_stamp  238082 non-null  object \n",
            " 5   param_12       238082 non-null  int64  \n",
            " 6   param_14       238082 non-null  int64  \n",
            "dtypes: float64(2), int64(2), object(3)\n",
            "memory usage: 12.7+ MB\n"
          ],
          "name": "stdout"
        }
      ]
    }
  ]
}