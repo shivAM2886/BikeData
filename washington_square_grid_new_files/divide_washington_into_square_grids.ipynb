{
  "nbformat": 4,
  "nbformat_minor": 0,
  "metadata": {
    "colab": {
      "name": "divide_washington_into_square_grids.ipynb",
      "provenance": []
    },
    "kernelspec": {
      "name": "python3",
      "display_name": "Python 3"
    },
    "language_info": {
      "name": "python"
    }
  },
  "cells": [
    {
      "cell_type": "code",
      "metadata": {
        "id": "3-GAO3ppYPf7"
      },
      "source": [
        "import numpy as np\n",
        "import pandas as pd"
      ],
      "execution_count": 45,
      "outputs": []
    },
    {
      "cell_type": "code",
      "metadata": {
        "id": "iw9fiLOXYJw2"
      },
      "source": [
        "class FormSquares:\n",
        "    def __init__(self, df_result):\n",
        "        self.df_result = df_result\n",
        "\n",
        "    def run_square(self):\n",
        "        lon_dict = {}\n",
        "        lat_dict = {}\n",
        "\n",
        "        x_max = np.max(self.df_result['line12'])\n",
        "        y_max = np.max(self.df_result['line14'])\n",
        "\n",
        "        print(\"x_max\", x_max, \"y_max\", y_max)\n",
        "\n",
        "        for i in range(len(self.df_result)):\n",
        "            x = self.df_result['line12'][i]\n",
        "            y = self.df_result['line14'][i]\n",
        "            lon_dict[(x, y)] = self.df_result['lon'][i]\n",
        "            lat_dict[(x, y)] = self.df_result['lat'][i]\n",
        "\n",
        "        cor1_lon_series = []\n",
        "        cor1_lat_series = []\n",
        "\n",
        "        cor2_lon_series = []\n",
        "        cor2_lat_series = []\n",
        "\n",
        "        cor3_lon_series = []\n",
        "        cor3_lat_series = []\n",
        "\n",
        "        cor4_lon_series = []\n",
        "        cor4_lat_series = []\n",
        "\n",
        "        square_id_series = []\n",
        "        x_series = []\n",
        "        y_series = []\n",
        "        count = 0\n",
        "\n",
        "        for i in range(y_max):\n",
        "\n",
        "            for j in range(x_max):\n",
        "                square_id_series.append(str(j) + str(i))\n",
        "\n",
        "                cor1_lon_series.append(lon_dict[j, i])\n",
        "                cor1_lat_series.append(lat_dict[j, i])\n",
        "\n",
        "                cor2_lon_series.append(lon_dict[j + 1, i])\n",
        "                cor2_lat_series.append(lat_dict[j + 1, i])\n",
        "\n",
        "                cor3_lon_series.append(lon_dict[j + 1, i + 1])\n",
        "                cor3_lat_series.append(lat_dict[j + 1, i + 1])\n",
        "\n",
        "                cor4_lon_series.append(lon_dict[j, i + 1])\n",
        "                cor4_lat_series.append(lat_dict[j, i + 1])\n",
        "\n",
        "                count += 1\n",
        "                x_series.append(j)\n",
        "                y_series.append(i)\n",
        "\n",
        "        print(\"total square percentage \", count/len(self.df_result))\n",
        "\n",
        "        data = {'square_id': square_id_series, 'x': x_series, 'y': y_series,\n",
        "                'lon_cor1': cor1_lon_series, 'lat_cor1': cor1_lat_series,\n",
        "                'lon_cor2': cor2_lon_series, 'lat_cor2': cor2_lat_series,\n",
        "                'lon_cor3': cor3_lon_series, 'lat_cor3': cor3_lat_series,\n",
        "                'lon_cor4': cor4_lon_series, 'lat_cor4': cor4_lat_series}\n",
        "\n",
        "        df_square = pd.DataFrame(data=data)\n",
        "        return x_max, y_max, df_square"
      ],
      "execution_count": 46,
      "outputs": []
    },
    {
      "cell_type": "code",
      "metadata": {
        "id": "HlOcqF-BX7xS"
      },
      "source": [
        "class GenerateGrid:\n",
        "\n",
        "    def __init__(self, grid_size):\n",
        "\n",
        "        # initialize the grid size in meters.\n",
        "        self.grid_size = grid_size\n",
        "\n",
        "        self.lat_corner1 = 38.995418\n",
        "        self.lon_corner1 = -77.041078\n",
        "\n",
        "        self.lat_corner2 = 38.892845\n",
        "        self.lon_corner2 = -76.909496\n",
        "\n",
        "        self.lat_corner3 = 38.828800\n",
        "        self.lon_corner3 = -76.9992657\n",
        "\n",
        "        self.lat_corner4 = 38.934471\n",
        "        self.lon_corner4 = -77.119045\n",
        "\n",
        "    def compute_parameter(self, lon0, lat0, lon1, lat1):\n",
        "\n",
        "        lon0 = np.radians(np.float64(lon0))\n",
        "        lat0 = np.radians(np.float64(lat0))\n",
        "\n",
        "        lon1 = np.radians(np.float64(lon1))\n",
        "        lat1 = np.radians(np.float64(lat1))\n",
        "\n",
        "        value = np.sin(lat0) * np.sin(lat1) + (np.cos(lat0) * np.cos(lat1) * np.cos(lon0 - lon1))\n",
        "\n",
        "        dist = 6371.01 * 1000 * np.arccos(value)\n",
        "\n",
        "        steps = int(dist/self.grid_size)\n",
        "        t = self.grid_size/dist\n",
        "\n",
        "        return t, steps\n",
        "\n",
        "    def run_main(self):\n",
        "\n",
        "        t12, s12 = self.compute_parameter(self.lon_corner1, self.lat_corner1, self.lon_corner2, self.lat_corner2)\n",
        "        t14, s14 = self.compute_parameter(self.lon_corner1, self.lat_corner1, self.lon_corner4, self.lat_corner4)\n",
        "\n",
        "        lon0 = self.lon_corner1\n",
        "        lat0 = self.lat_corner1\n",
        "\n",
        "        lon1 = self.lon_corner2\n",
        "        lat1 = self.lat_corner2\n",
        "\n",
        "        lon_t_series = []\n",
        "        lat_t_series = []\n",
        "        line12_id = []\n",
        "        line14_id = []\n",
        "\n",
        "        for i in range(s14 + 5):\n",
        "            for j in range(s12):\n",
        "                lat_t = (1 - (j * t12)) * lat0 + (j * t12) * lat1\n",
        "                lon_t = (1 - (j * t12)) * lon0 + (j * t12) * lon1\n",
        "\n",
        "                lat_t_series.append(lat_t)\n",
        "                lon_t_series.append(lon_t)\n",
        "                line12_id.append(j)\n",
        "                line14_id.append(i)\n",
        "\n",
        "            lon0 = (1 - (i * t14)) * self.lon_corner1 + (i * t14) * self.lon_corner4\n",
        "            lat0 = (1 - (i * t14)) * self.lat_corner1 + (i * t14) * self.lat_corner4\n",
        "\n",
        "            lon1 = (1 - (i * t14)) * self.lon_corner2 + (i * t14) * self.lon_corner3\n",
        "            lat1 = (1 - (i * t14)) * self.lat_corner2 + (i * t14) * self.lat_corner3\n",
        "\n",
        "        data = {'line12': line12_id, 'line14': line14_id, 'lon': lon_t_series, 'lat': lat_t_series}\n",
        "        \n",
        "        df_result = pd.DataFrame(data=data)\n",
        "        x_max, y_max, df_square = FormSquares(df_result).run_square()\n",
        "\n",
        "        df_square['x_max'] = x_max\n",
        "        df_square['y_max'] = y_max\n",
        "\n",
        "        return x_max, y_max, df_square"
      ],
      "execution_count": 47,
      "outputs": []
    },
    {
      "cell_type": "code",
      "metadata": {
        "colab": {
          "base_uri": "https://localhost:8080/"
        },
        "id": "AIrvtRAEYrLq",
        "outputId": "25debae8-0ef0-4cd0-835e-351097d28236"
      },
      "source": [
        "g = GenerateGrid(100)\n",
        "x_max, y_max, df_square = g.run_main()"
      ],
      "execution_count": 48,
      "outputs": [
        {
          "output_type": "stream",
          "text": [
            "x_max 160 y_max 99\n",
            "total square percentage  0.9838509316770186\n"
          ],
          "name": "stdout"
        }
      ]
    },
    {
      "cell_type": "code",
      "metadata": {
        "id": "75Tl2UApcJid"
      },
      "source": [
        "df_square.to_csv(\"washington_grid_square_grid_side_size_100m.csv\")"
      ],
      "execution_count": 49,
      "outputs": []
    }
  ]
}