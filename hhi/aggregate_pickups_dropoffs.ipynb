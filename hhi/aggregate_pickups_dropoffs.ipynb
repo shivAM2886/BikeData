{
 "cells": [
  {
   "cell_type": "code",
   "execution_count": 1,
   "metadata": {},
   "outputs": [],
   "source": [
    "import pandas as pd\n",
    "import numpy as np\n",
    "import os\n",
    "import matplotlib.pyplot as plt\n",
    "import seaborn as sns\n",
    "from collections import defaultdict\n",
    "from tqdm import tqdm"
   ]
  },
  {
   "cell_type": "code",
   "execution_count": 2,
   "metadata": {},
   "outputs": [
    {
     "name": "stdout",
     "output_type": "stream",
     "text": [
      "<class 'pandas.core.frame.DataFrame'>\n",
      "RangeIndex: 8437 entries, 0 to 8436\n",
      "Data columns (total 6 columns):\n",
      " #   Column                  Non-Null Count  Dtype  \n",
      "---  ------                  --------------  -----  \n",
      " 0   Unnamed: 0              8437 non-null   int64  \n",
      " 1   unique_intersection_id  8437 non-null   int64  \n",
      " 2   INTERSECTIONID          8437 non-null   int64  \n",
      " 3   FULLINTERSECTION        8437 non-null   object \n",
      " 4   LONGITUDE               8437 non-null   float64\n",
      " 5   LATITUDE                8437 non-null   float64\n",
      "dtypes: float64(2), int64(3), object(1)\n",
      "memory usage: 395.6+ KB\n"
     ]
    }
   ],
   "source": [
    "# read file with information about washington intersection info\n",
    "\n",
    "file_path = r\"C:\\project_files\\dc_intersection\\intersection_points_unique.csv\"\n",
    "df_int = pd.read_csv(file_path)\n",
    "df_int.info()"
   ]
  },
  {
   "cell_type": "code",
   "execution_count": 3,
   "metadata": {},
   "outputs": [],
   "source": [
    "# function to attribute part of the day based on hour of the day.\n",
    "\n",
    "def assign_part_of_day(x):\n",
    "    if x == 8 or x == 9:\n",
    "        return \"morning\"\n",
    "    elif x == 10 or x == 11 or x == 12:\n",
    "        return \"late_morning\"\n",
    "    elif x == 13 or x == 14 or x == 15:\n",
    "        return \"afternoon\"\n",
    "    elif x == 16 or x == 17 or x == 18:\n",
    "        return \"evening\"\n",
    "    elif x == 19 or x == 20:\n",
    "        return \"late_evening\"\n",
    "    \n",
    "\n",
    "# function to modify the trip dataframe by removing trips\n",
    "# that fall outside the 8AM to 8PM time period\n",
    "# and assign part of the day based on the hour of day.\n",
    "\n",
    "def modify_dataframe(df):\n",
    "    df['hour'] = pd.to_datetime(df['start_time'])\n",
    "    df['hour'] = df['hour'].apply(lambda x: x.hour)\n",
    "    df = df[(df['hour'] >= 8) & (df['hour'] <= 20)]\n",
    "    df['part_of_day'] = df['hour'].apply(lambda x: assign_part_of_day(x))\n",
    "    \n",
    "    return df"
   ]
  },
  {
   "cell_type": "code",
   "execution_count": 4,
   "metadata": {},
   "outputs": [
    {
     "name": "stderr",
     "output_type": "stream",
     "text": [
      "C:\\Users\\akabr\\anaconda3\\lib\\site-packages\\IPython\\core\\interactiveshell.py:3063: DtypeWarning: Columns (2,3) have mixed types.Specify dtype option on import or set low_memory=False.\n",
      "  interactivity=interactivity, compiler=compiler, result=result)\n",
      "C:\\Users\\akabr\\anaconda3\\lib\\site-packages\\ipykernel_launcher.py:24: SettingWithCopyWarning: \n",
      "A value is trying to be set on a copy of a slice from a DataFrame.\n",
      "Try using .loc[row_indexer,col_indexer] = value instead\n",
      "\n",
      "See the caveats in the documentation: https://pandas.pydata.org/pandas-docs/stable/user_guide/indexing.html#returning-a-view-versus-a-copy\n"
     ]
    },
    {
     "name": "stdout",
     "output_type": "stream",
     "text": [
      "<class 'pandas.core.frame.DataFrame'>\n",
      "Int64Index: 566210 entries, 0 to 648297\n",
      "Data columns (total 19 columns):\n",
      " #   Column                      Non-Null Count   Dtype  \n",
      "---  ------                      --------------   -----  \n",
      " 0   Unnamed: 0                  566210 non-null  int64  \n",
      " 1   Unnamed: 0.1                566210 non-null  int64  \n",
      " 2   trip_id                     566210 non-null  object \n",
      " 3   vehicle_id                  566210 non-null  object \n",
      " 4   vehicle_type                566210 non-null  object \n",
      " 5   start_lat                   566208 non-null  float64\n",
      " 6   start_lon                   566208 non-null  float64\n",
      " 7   end_lat                     566208 non-null  float64\n",
      " 8   end_lon                     566208 non-null  float64\n",
      " 9   start_time                  566210 non-null  object \n",
      " 10  end_time                    566210 non-null  object \n",
      " 11  trip_length                 566210 non-null  float64\n",
      " 12  provider                    566210 non-null  object \n",
      " 13  start_min_distance          566208 non-null  float64\n",
      " 14  start_nearest_intersection  566210 non-null  int64  \n",
      " 15  end_min_distance            566208 non-null  float64\n",
      " 16  end_nearest_intersection    566210 non-null  int64  \n",
      " 17  hour                        566210 non-null  int64  \n",
      " 18  part_of_day                 566210 non-null  object \n",
      "dtypes: float64(7), int64(5), object(7)\n",
      "memory usage: 86.4+ MB\n",
      "None\n"
     ]
    }
   ],
   "source": [
    "# load all the trip dataset files in 2019\n",
    "\n",
    "dataset_files = ['all_trips_2019_' + str(i) for i in range(10)]\n",
    "file_path = r\"D:\\trip_datasets\\dataset_modified\" \n",
    "\n",
    "df_list = []\n",
    "\n",
    "for file in dataset_files:\n",
    "    df = pd.read_csv(file_path + \"/\" + file + \"_mod.csv\")\n",
    "    df = df.reset_index(drop = True)\n",
    "    df = modify_dataframe(df)\n",
    "    df_list.append(df)\n",
    "\n",
    "# printing the information a trip file contains\n",
    "print(df_list[0].info())"
   ]
  },
  {
   "cell_type": "code",
   "execution_count": 5,
   "metadata": {},
   "outputs": [],
   "source": [
    "# function to add the number of pickups and number of dropoffs to each of the intersections. \n",
    "\n",
    "\n",
    "def main_function(part_of_day, df_list, df_int):\n",
    "    \n",
    "    \n",
    "    if part_of_day == 'all':\n",
    "        dict_pickups = defaultdict(lambda : 0)\n",
    "        dict_dropoffs = defaultdict(lambda : 0)\n",
    "        \n",
    "        \n",
    "        \n",
    "        for df in df_list:\n",
    "            \n",
    "            df = df.reset_index(drop = True)\n",
    "            \n",
    "            for i in tqdm(range(len(df))):\n",
    "                dict_pickups[df['start_nearest_intersection'][i]] += 1\n",
    "                dict_dropoffs[df['end_nearest_intersection'][i]] += 1  \n",
    "        \n",
    "        df_int['all_dropoffs'] = df_int['unique_intersection_id'].apply(lambda x: dict_dropoffs[x])\n",
    "        df_int['all_pickups'] = df_int['unique_intersection_id'].apply(lambda x: dict_pickups[x])\n",
    "    \n",
    "    else:\n",
    "        dict_pickups = defaultdict(lambda :0)\n",
    "        dict_dropoffs = defaultdict(lambda :0)\n",
    "        \n",
    "        for df in df_list:\n",
    "            \n",
    "            df = df[df['part_of_day'] == part_of_day]\n",
    "            df = df.reset_index(drop = True)\n",
    "            \n",
    "            \n",
    "            for i in tqdm(range(len(df))):\n",
    "                dict_pickups[df['start_nearest_intersection'][i]] += 1\n",
    "                dict_dropoffs[df['end_nearest_intersection'][i]] += 1\n",
    "        \n",
    "        df_int[part_of_day + '_dropoffs'] = df_int['unique_intersection_id'].apply(lambda x: dict_dropoffs[x])\n",
    "        df_int[part_of_day + '_pickups'] = df_int['unique_intersection_id'].apply(lambda x: dict_pickups[x])\n",
    "    \n",
    "    \n",
    "    return df_int"
   ]
  },
  {
   "cell_type": "code",
   "execution_count": 6,
   "metadata": {},
   "outputs": [
    {
     "name": "stderr",
     "output_type": "stream",
     "text": [
      "100%|███████████████████████████████████████████████████████████████████████| 566210/566210 [00:13<00:00, 40998.00it/s]\n",
      "100%|███████████████████████████████████████████████████████████████████████| 550301/550301 [00:13<00:00, 41068.05it/s]\n",
      "100%|███████████████████████████████████████████████████████████████████████| 529966/529966 [00:12<00:00, 41304.02it/s]\n",
      "100%|███████████████████████████████████████████████████████████████████████| 519309/519309 [00:12<00:00, 40914.69it/s]\n",
      "100%|███████████████████████████████████████████████████████████████████████| 522969/522969 [00:12<00:00, 41233.80it/s]\n",
      "100%|███████████████████████████████████████████████████████████████████████| 552368/552368 [00:13<00:00, 41214.78it/s]\n",
      "100%|███████████████████████████████████████████████████████████████████████| 588455/588455 [00:14<00:00, 41396.40it/s]\n",
      "100%|███████████████████████████████████████████████████████████████████████| 567057/567057 [00:13<00:00, 41032.76it/s]\n",
      "100%|███████████████████████████████████████████████████████████████████████| 558444/558444 [00:13<00:00, 40944.06it/s]\n",
      "100%|███████████████████████████████████████████████████████████████████████| 582158/582158 [00:14<00:00, 40991.78it/s]\n",
      "100%|█████████████████████████████████████████████████████████████████████████| 57589/57589 [00:01<00:00, 41025.40it/s]\n",
      "100%|█████████████████████████████████████████████████████████████████████████| 52515/52515 [00:01<00:00, 41335.05it/s]\n",
      "100%|█████████████████████████████████████████████████████████████████████████| 53655/53655 [00:01<00:00, 41114.70it/s]\n",
      "100%|█████████████████████████████████████████████████████████████████████████| 55888/55888 [00:01<00:00, 40787.15it/s]\n",
      "100%|█████████████████████████████████████████████████████████████████████████| 66765/66765 [00:01<00:00, 40929.81it/s]\n",
      "100%|█████████████████████████████████████████████████████████████████████████| 60722/60722 [00:01<00:00, 40068.77it/s]\n",
      "100%|█████████████████████████████████████████████████████████████████████████| 62599/62599 [00:01<00:00, 40814.36it/s]\n",
      "100%|█████████████████████████████████████████████████████████████████████████| 60868/60868 [00:01<00:00, 40951.21it/s]\n",
      "100%|█████████████████████████████████████████████████████████████████████████| 49409/49409 [00:01<00:00, 41406.88it/s]\n",
      "100%|█████████████████████████████████████████████████████████████████████████| 56406/56406 [00:01<00:00, 41106.20it/s]\n",
      "100%|███████████████████████████████████████████████████████████████████████| 112926/112926 [00:02<00:00, 41337.43it/s]\n",
      "100%|███████████████████████████████████████████████████████████████████████| 102371/102371 [00:02<00:00, 41416.18it/s]\n",
      "100%|█████████████████████████████████████████████████████████████████████████| 95389/95389 [00:02<00:00, 41552.37it/s]\n",
      "100%|█████████████████████████████████████████████████████████████████████████| 93766/93766 [00:02<00:00, 41030.00it/s]\n",
      "100%|█████████████████████████████████████████████████████████████████████████| 96816/96816 [00:02<00:00, 41317.34it/s]\n",
      "100%|███████████████████████████████████████████████████████████████████████| 100664/100664 [00:02<00:00, 41375.28it/s]\n",
      "100%|███████████████████████████████████████████████████████████████████████| 150235/150235 [00:03<00:00, 41212.41it/s]\n",
      "100%|███████████████████████████████████████████████████████████████████████| 130637/130637 [00:03<00:00, 41366.29it/s]\n",
      "100%|███████████████████████████████████████████████████████████████████████| 106446/106446 [00:02<00:00, 41512.05it/s]\n",
      "100%|███████████████████████████████████████████████████████████████████████| 107116/107116 [00:02<00:00, 41356.54it/s]\n",
      "100%|███████████████████████████████████████████████████████████████████████| 152924/152924 [00:03<00:00, 41411.00it/s]\n",
      "100%|███████████████████████████████████████████████████████████████████████| 146519/146519 [00:03<00:00, 41445.18it/s]\n",
      "100%|███████████████████████████████████████████████████████████████████████| 135044/135044 [00:03<00:00, 41323.58it/s]\n",
      "100%|███████████████████████████████████████████████████████████████████████| 129533/129533 [00:03<00:00, 41503.29it/s]\n",
      "100%|███████████████████████████████████████████████████████████████████████| 133247/133247 [00:03<00:00, 41280.05it/s]\n",
      "100%|███████████████████████████████████████████████████████████████████████| 149589/149589 [00:03<00:00, 41187.96it/s]\n",
      "100%|███████████████████████████████████████████████████████████████████████| 186958/186958 [00:04<00:00, 41307.49it/s]\n",
      "100%|███████████████████████████████████████████████████████████████████████| 171390/171390 [00:04<00:00, 40829.75it/s]\n",
      "100%|███████████████████████████████████████████████████████████████████████| 157455/157455 [00:03<00:00, 40610.13it/s]\n",
      "100%|███████████████████████████████████████████████████████████████████████| 163797/163797 [00:04<00:00, 40903.57it/s]\n",
      "100%|███████████████████████████████████████████████████████████████████████| 169788/169788 [00:04<00:00, 40929.26it/s]\n",
      "100%|███████████████████████████████████████████████████████████████████████| 168491/168491 [00:04<00:00, 40936.10it/s]\n",
      "100%|███████████████████████████████████████████████████████████████████████| 163020/163020 [00:03<00:00, 40959.05it/s]\n",
      "100%|███████████████████████████████████████████████████████████████████████| 160403/160403 [00:03<00:00, 41158.06it/s]\n",
      "100%|███████████████████████████████████████████████████████████████████████| 158299/158299 [00:03<00:00, 41101.46it/s]\n",
      "100%|███████████████████████████████████████████████████████████████████████| 169291/169291 [00:04<00:00, 41195.09it/s]\n",
      "100%|███████████████████████████████████████████████████████████████████████| 140148/140148 [00:03<00:00, 41312.37it/s]\n",
      "100%|███████████████████████████████████████████████████████████████████████| 148671/148671 [00:03<00:00, 41129.85it/s]\n",
      "100%|███████████████████████████████████████████████████████████████████████| 172833/172833 [00:04<00:00, 41135.40it/s]\n",
      "100%|███████████████████████████████████████████████████████████████████████| 181259/181259 [00:04<00:00, 41276.47it/s]\n",
      "100%|█████████████████████████████████████████████████████████████████████████| 72983/72983 [00:01<00:00, 41408.84it/s]\n",
      "100%|█████████████████████████████████████████████████████████████████████████| 80405/80405 [00:01<00:00, 41014.58it/s]\n",
      "100%|█████████████████████████████████████████████████████████████████████████| 82858/82858 [00:02<00:00, 40437.16it/s]\n",
      "100%|█████████████████████████████████████████████████████████████████████████| 79719/79719 [00:01<00:00, 41043.08it/s]\n",
      "100%|█████████████████████████████████████████████████████████████████████████| 67842/67842 [00:01<00:00, 40891.40it/s]\n",
      "100%|█████████████████████████████████████████████████████████████████████████| 72102/72102 [00:01<00:00, 40933.00it/s]\n",
      "100%|█████████████████████████████████████████████████████████████████████████| 48515/48515 [00:01<00:00, 41068.31it/s]\n",
      "100%|█████████████████████████████████████████████████████████████████████████| 55491/55491 [00:01<00:00, 40633.31it/s]\n",
      "100%|█████████████████████████████████████████████████████████████████████████| 72301/72301 [00:01<00:00, 40658.25it/s]\n",
      "100%|█████████████████████████████████████████████████████████████████████████| 73580/73580 [00:01<00:00, 40655.51it/s]\n"
     ]
    }
   ],
   "source": [
    "part_of_day_array = ['all', 'morning', 'late_morning', 'afternoon', 'evening', 'late_evening']\n",
    "\n",
    "# assigning pickups and dropoffs for all different periods of the day\n",
    "for part_of_day in part_of_day_array:\n",
    "    df_int = main_function(part_of_day, df_list, df_int)"
   ]
  },
  {
   "cell_type": "code",
   "execution_count": 7,
   "metadata": {},
   "outputs": [
    {
     "name": "stdout",
     "output_type": "stream",
     "text": [
      "<class 'pandas.core.frame.DataFrame'>\n",
      "RangeIndex: 8437 entries, 0 to 8436\n",
      "Data columns (total 18 columns):\n",
      " #   Column                  Non-Null Count  Dtype  \n",
      "---  ------                  --------------  -----  \n",
      " 0   Unnamed: 0              8437 non-null   int64  \n",
      " 1   unique_intersection_id  8437 non-null   int64  \n",
      " 2   INTERSECTIONID          8437 non-null   int64  \n",
      " 3   FULLINTERSECTION        8437 non-null   object \n",
      " 4   LONGITUDE               8437 non-null   float64\n",
      " 5   LATITUDE                8437 non-null   float64\n",
      " 6   all_dropoffs            8437 non-null   int64  \n",
      " 7   all_pickups             8437 non-null   int64  \n",
      " 8   morning_dropoffs        8437 non-null   int64  \n",
      " 9   morning_pickups         8437 non-null   int64  \n",
      " 10  late_morning_dropoffs   8437 non-null   int64  \n",
      " 11  late_morning_pickups    8437 non-null   int64  \n",
      " 12  afternoon_dropoffs      8437 non-null   int64  \n",
      " 13  afternoon_pickups       8437 non-null   int64  \n",
      " 14  evening_dropoffs        8437 non-null   int64  \n",
      " 15  evening_pickups         8437 non-null   int64  \n",
      " 16  late_evening_dropoffs   8437 non-null   int64  \n",
      " 17  late_evening_pickups    8437 non-null   int64  \n",
      "dtypes: float64(2), int64(15), object(1)\n",
      "memory usage: 1.2+ MB\n"
     ]
    }
   ],
   "source": [
    "df_int.info()"
   ]
  },
  {
   "cell_type": "code",
   "execution_count": 8,
   "metadata": {},
   "outputs": [],
   "source": [
    "df_int = df_int.sort_values(by = ['all_pickups'], ascending = False)\n",
    "df_int = df_int.reset_index(drop = True)\n",
    "\n",
    "df_int.to_csv(\"total_pickups_dropoffs_at_intersections.csv\")"
   ]
  }
 ],
 "metadata": {
  "kernelspec": {
   "display_name": "Python 3",
   "language": "python",
   "name": "python3"
  },
  "language_info": {
   "codemirror_mode": {
    "name": "ipython",
    "version": 3
   },
   "file_extension": ".py",
   "mimetype": "text/x-python",
   "name": "python",
   "nbconvert_exporter": "python",
   "pygments_lexer": "ipython3",
   "version": "3.7.6"
  }
 },
 "nbformat": 4,
 "nbformat_minor": 4
}
