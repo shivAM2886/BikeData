{
 "cells": [
  {
   "cell_type": "code",
   "execution_count": 1,
   "metadata": {},
   "outputs": [],
   "source": [
    "import pandas as pd\n",
    "import numpy as np\n",
    "from tqdm import tqdm\n",
    "import matplotlib.pyplot as plt\n",
    "import seaborn as sns\n",
    "from collections import defaultdict"
   ]
  },
  {
   "cell_type": "code",
   "execution_count": 2,
   "metadata": {},
   "outputs": [
    {
     "name": "stdout",
     "output_type": "stream",
     "text": [
      "<class 'pandas.core.frame.DataFrame'>\n",
      "RangeIndex: 2000 entries, 0 to 1999\n",
      "Data columns (total 19 columns):\n",
      " #   Column                  Non-Null Count  Dtype  \n",
      "---  ------                  --------------  -----  \n",
      " 0   Unnamed: 0              2000 non-null   int64  \n",
      " 1   Unnamed: 0.1            2000 non-null   int64  \n",
      " 2   unique_intersection_id  2000 non-null   int64  \n",
      " 3   INTERSECTIONID          2000 non-null   int64  \n",
      " 4   FULLINTERSECTION        2000 non-null   object \n",
      " 5   LONGITUDE               2000 non-null   float64\n",
      " 6   LATITUDE                2000 non-null   float64\n",
      " 7   all_dropoffs            2000 non-null   int64  \n",
      " 8   all_pickups             2000 non-null   int64  \n",
      " 9   morning_dropoffs        2000 non-null   int64  \n",
      " 10  morning_pickups         2000 non-null   int64  \n",
      " 11  late_morning_dropoffs   2000 non-null   int64  \n",
      " 12  late_morning_pickups    2000 non-null   int64  \n",
      " 13  afternoon_dropoffs      2000 non-null   int64  \n",
      " 14  afternoon_pickups       2000 non-null   int64  \n",
      " 15  evening_dropoffs        2000 non-null   int64  \n",
      " 16  evening_pickups         2000 non-null   int64  \n",
      " 17  late_evening_dropoffs   2000 non-null   int64  \n",
      " 18  late_evening_pickups    2000 non-null   int64  \n",
      "dtypes: float64(2), int64(16), object(1)\n",
      "memory usage: 297.0+ KB\n"
     ]
    }
   ],
   "source": [
    "# read file containing total pickups and total dropoffs at each intersections.\n",
    "df_int = pd.read_csv(\"total_pickups_dropoffs_at_intersections.csv\")\n",
    "\n",
    "df_int2 = df_int\n",
    "\n",
    "df_int2 = df_int2.sort_values(by = 'all_pickups', ascending = False)\n",
    "df_int2 = df_int2.reset_index(drop = True)\n",
    "\n",
    "# take only top 2000 intersections with largest value of pickups.\n",
    "df_int2 = df_int.iloc[0:2000]\n",
    "\n",
    "df_int2.info()"
   ]
  },
  {
   "cell_type": "code",
   "execution_count": 3,
   "metadata": {},
   "outputs": [],
   "source": [
    "# distance calculation\n",
    "\n",
    "def calc_distance(lon_array, lat_array):\n",
    "    \n",
    "    lat_loc = lat_array.reshape(lat_array.shape[0], 1)\n",
    "    lon_loc = lon_array.reshape(lon_array.shape[0], 1)\n",
    "    \n",
    "    lon_ref = lon_array.reshape(1, lon_array.shape[0])\n",
    "    lat_ref = lat_array.reshape(1, lat_array.shape[0])\n",
    "    \n",
    "    lon_loc = np.radians(np.float64(lon_loc))\n",
    "    lon_ref = np.radians(np.float64(lon_ref))\n",
    "    lat_loc = np.radians(np.float64(lat_loc))\n",
    "    lat_ref = np.radians(np.float64(lat_ref))\n",
    "\n",
    "    value = np.sin(lat_loc)*np.sin(lat_ref) + (np.cos(lat_loc)*np.cos(lat_ref) * np.cos(lon_loc-lon_ref))\n",
    "\n",
    "    value[value > 1] = 1\n",
    "    dist = 6371.01*1000*np.arccos(value)\n",
    "    \n",
    "    return dist "
   ]
  },
  {
   "cell_type": "code",
   "execution_count": 4,
   "metadata": {},
   "outputs": [
    {
     "name": "stderr",
     "output_type": "stream",
     "text": [
      "100%|███████████████████████████████████████████████████████████████████████████| 1000/1000 [00:00<00:00, 23857.16it/s]\n"
     ]
    }
   ],
   "source": [
    "# making clusters\n",
    "\n",
    "lon_array = df_int2['LONGITUDE'].values\n",
    "lat_array = df_int2['LATITUDE'].values\n",
    "\n",
    "u_id = df_int2['unique_intersection_id'].values\n",
    "pickups = df_int2['all_pickups'].values\n",
    "dropoff = df_int2['all_dropoffs'].values\n",
    "\n",
    "dist = calc_distance(lon_array, lat_array)\n",
    "\n",
    "\n",
    "already_accounted = []\n",
    "\n",
    "u_id_array = []\n",
    "avg_dist_array = []\n",
    "\n",
    "u_pickups = []\n",
    "\n",
    "len_array = []\n",
    "cluster_array = []\n",
    "\n",
    "\n",
    "count = 0\n",
    "threshold_distance = 250\n",
    "\n",
    "\n",
    "for i in tqdm(range(1000)):\n",
    "    if u_id[i] not in already_accounted:\n",
    "        \n",
    "        count += 1\n",
    "        a = dist[i]\n",
    "        \n",
    "        #index = np.argpartition(a, 5)[:5]\n",
    "        index = np.where(a <= threshold_distance)\n",
    "        \n",
    "        dist_temp = a[index]\n",
    "        pickups_temp = pickups[index]\n",
    "        u_temp = u_id[index]\n",
    "        dropoff_temp = dropoff[index]\n",
    "        \n",
    "        cluster_array.append(u_temp.tolist())\n",
    "        already_accounted.extend(u_temp)\n",
    "        \n",
    "        dist[:, index] = 9999999\n",
    "        \n",
    "        avg_dist_array.append(np.mean(dist_temp)*1.2)\n",
    "        u_id_array.append(u_id[i])\n",
    "        u_pickups.append(pickups_temp[np.where(u_temp == u_id[i])][0])\n",
    "        \n",
    "\n",
    "        len_array.append(dist_temp.shape[0])"
   ]
  },
  {
   "cell_type": "code",
   "execution_count": 5,
   "metadata": {},
   "outputs": [
    {
     "name": "stdout",
     "output_type": "stream",
     "text": [
      "total number of clusters  242\n"
     ]
    }
   ],
   "source": [
    "data = {'uid':u_id_array, 'cluster_int':cluster_array, 'len_stns':len_array, 'u_pickups':u_pickups, \\\n",
    "        'avg_dist':avg_dist_array}\n",
    "\n",
    "df_out = pd.DataFrame(data = data)\n",
    "\n",
    "df_out = df_out.fillna(0)\n",
    "df_out = df_out.sort_values(by = 'u_pickups', ascending = False)\n",
    "df_out = df_out.reset_index(drop = True)\n",
    "\n",
    "print(\"total number of clusters \", count)"
   ]
  },
  {
   "cell_type": "code",
   "execution_count": 6,
   "metadata": {},
   "outputs": [
    {
     "data": {
      "text/plain": [
       "<matplotlib.axes._subplots.AxesSubplot at 0x236afe18488>"
      ]
     },
     "execution_count": 6,
     "metadata": {},
     "output_type": "execute_result"
    },
    {
     "data": {
      "image/png": "[encoded data removed]",
      "text/plain": [
       "<Figure size 432x288 with 1 Axes>"
      ]
     },
     "metadata": {
      "needs_background": "light"
     },
     "output_type": "display_data"
    }
   ],
   "source": [
    "plt.grid()\n",
    "plt.xlabel(\"distance from reference intersection (yards)\")\n",
    "sns.distplot(df_out['avg_dist'].values * 1.09361)"
   ]
  },
  {
   "cell_type": "code",
   "execution_count": 7,
   "metadata": {},
   "outputs": [
    {
     "data": {
      "text/plain": [
       "array([ 74.11931364, 107.58945389, 121.41449691, 130.90677295,\n",
       "       164.53834559, 186.4617847 , 189.48804602, 200.12720841,\n",
       "       220.2344265 ])"
      ]
     },
     "execution_count": 7,
     "metadata": {},
     "output_type": "execute_result"
    }
   ],
   "source": [
    "a = df_out['avg_dist'].values\n",
    "q = [10, 20, 25, 30, 50, 75, 80, 90, 99]\n",
    "np.percentile(a, q)"
   ]
  },
  {
   "cell_type": "code",
   "execution_count": 8,
   "metadata": {},
   "outputs": [
    {
     "data": {
      "text/plain": [
       "1630"
      ]
     },
     "execution_count": 8,
     "metadata": {},
     "output_type": "execute_result"
    }
   ],
   "source": [
    "np.sum(df_out['len_stns'].values)"
   ]
  },
  {
   "cell_type": "code",
   "execution_count": 9,
   "metadata": {},
   "outputs": [
    {
     "data": {
      "text/html": [
       "<div>\n",
       "<style scoped>\n",
       "    .dataframe tbody tr th:only-of-type {\n",
       "        vertical-align: middle;\n",
       "    }\n",
       "\n",
       "    .dataframe tbody tr th {\n",
       "        vertical-align: top;\n",
       "    }\n",
       "\n",
       "    .dataframe thead th {\n",
       "        text-align: right;\n",
       "    }\n",
       "</style>\n",
       "<table border=\"1\" class=\"dataframe\">\n",
       "  <thead>\n",
       "    <tr style=\"text-align: right;\">\n",
       "      <th></th>\n",
       "      <th>uid</th>\n",
       "      <th>cluster_int</th>\n",
       "      <th>len_stns</th>\n",
       "      <th>u_pickups</th>\n",
       "      <th>avg_dist</th>\n",
       "    </tr>\n",
       "  </thead>\n",
       "  <tbody>\n",
       "    <tr>\n",
       "      <th>0</th>\n",
       "      <td>2947</td>\n",
       "      <td>[2947, 357, 2044, 8011]</td>\n",
       "      <td>4</td>\n",
       "      <td>58491</td>\n",
       "      <td>170.915999</td>\n",
       "    </tr>\n",
       "    <tr>\n",
       "      <th>1</th>\n",
       "      <td>1933</td>\n",
       "      <td>[1933, 8144, 1246, 7815, 7776, 135, 5518]</td>\n",
       "      <td>7</td>\n",
       "      <td>35613</td>\n",
       "      <td>198.597812</td>\n",
       "    </tr>\n",
       "  </tbody>\n",
       "</table>\n",
       "</div>"
      ],
      "text/plain": [
       "    uid                                cluster_int  len_stns  u_pickups  \\\n",
       "0  2947                    [2947, 357, 2044, 8011]         4      58491   \n",
       "1  1933  [1933, 8144, 1246, 7815, 7776, 135, 5518]         7      35613   \n",
       "\n",
       "     avg_dist  \n",
       "0  170.915999  \n",
       "1  198.597812  "
      ]
     },
     "execution_count": 9,
     "metadata": {},
     "output_type": "execute_result"
    }
   ],
   "source": [
    "df_out.head(2)"
   ]
  },
  {
   "cell_type": "code",
   "execution_count": 10,
   "metadata": {},
   "outputs": [],
   "source": [
    "dict_cluster = defaultdict(lambda : -18)\n",
    "\n",
    "for i in range(len(df_out)):\n",
    "    cluster_id = df_out['uid'][i]\n",
    "    list1 = df_out['cluster_int'][i]\n",
    "    for k in list1:\n",
    "        dict_cluster[k] = cluster_id"
   ]
  },
  {
   "cell_type": "code",
   "execution_count": 11,
   "metadata": {},
   "outputs": [
    {
     "name": "stdout",
     "output_type": "stream",
     "text": [
      "<class 'pandas.core.frame.DataFrame'>\n",
      "Int64Index: 1630 entries, 0 to 1998\n",
      "Data columns (total 18 columns):\n",
      " #   Column                  Non-Null Count  Dtype  \n",
      "---  ------                  --------------  -----  \n",
      " 0   unique_intersection_id  1630 non-null   int64  \n",
      " 1   INTERSECTIONID          1630 non-null   int64  \n",
      " 2   FULLINTERSECTION        1630 non-null   object \n",
      " 3   LONGITUDE               1630 non-null   float64\n",
      " 4   LATITUDE                1630 non-null   float64\n",
      " 5   all_dropoffs            1630 non-null   int64  \n",
      " 6   all_pickups             1630 non-null   int64  \n",
      " 7   morning_dropoffs        1630 non-null   int64  \n",
      " 8   morning_pickups         1630 non-null   int64  \n",
      " 9   late_morning_dropoffs   1630 non-null   int64  \n",
      " 10  late_morning_pickups    1630 non-null   int64  \n",
      " 11  afternoon_dropoffs      1630 non-null   int64  \n",
      " 12  afternoon_pickups       1630 non-null   int64  \n",
      " 13  evening_dropoffs        1630 non-null   int64  \n",
      " 14  evening_pickups         1630 non-null   int64  \n",
      " 15  late_evening_dropoffs   1630 non-null   int64  \n",
      " 16  late_evening_pickups    1630 non-null   int64  \n",
      " 17  cluster_id              1630 non-null   int64  \n",
      "dtypes: float64(2), int64(15), object(1)\n",
      "memory usage: 242.0+ KB\n"
     ]
    },
    {
     "name": "stderr",
     "output_type": "stream",
     "text": [
      "C:\\Users\\akabr\\anaconda3\\lib\\site-packages\\ipykernel_launcher.py:1: SettingWithCopyWarning: \n",
      "A value is trying to be set on a copy of a slice from a DataFrame.\n",
      "Try using .loc[row_indexer,col_indexer] = value instead\n",
      "\n",
      "See the caveats in the documentation: https://pandas.pydata.org/pandas-docs/stable/user_guide/indexing.html#returning-a-view-versus-a-copy\n",
      "  \"\"\"Entry point for launching an IPython kernel.\n"
     ]
    }
   ],
   "source": [
    "df_int2['cluster_id'] = df_int2['unique_intersection_id'].apply(lambda x: dict_cluster[x])\n",
    "df_int2 = df_int2[df_int2['cluster_id'] != -18]\n",
    "df_int2 = df_int2.drop(columns = ['Unnamed: 0', 'Unnamed: 0.1'])\n",
    "\n",
    "# add cluster id to the intersections file.\n",
    "df_int2.info()\n"
   ]
  },
  {
   "cell_type": "code",
   "execution_count": 12,
   "metadata": {},
   "outputs": [],
   "source": [
    "df_int2.to_csv(\"total_pickups_dropoffs_cluster_id_250m_at_intersections.csv\")"
   ]
  }
 ],
 "metadata": {
  "kernelspec": {
   "display_name": "Python 3",
   "language": "python",
   "name": "python3"
  },
  "language_info": {
   "codemirror_mode": {
    "name": "ipython",
    "version": 3
   },
   "file_extension": ".py",
   "mimetype": "text/x-python",
   "name": "python",
   "nbconvert_exporter": "python",
   "pygments_lexer": "ipython3",
   "version": "3.7.6"
  }
 },
 "nbformat": 4,
 "nbformat_minor": 4
}
