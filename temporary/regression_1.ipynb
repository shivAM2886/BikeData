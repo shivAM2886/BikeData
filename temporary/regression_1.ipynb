{
 "cells": [
  {
   "cell_type": "code",
   "execution_count": 1,
   "metadata": {},
   "outputs": [],
   "source": [
    "import pandas as pd\n",
    "import numpy as np\n",
    "from sklearn.linear_model import LinearRegression\n",
    "from sklearn.feature_selection import f_regression\n",
    "from yellowbrick.regressor import ResidualsPlot\n",
    "from sklearn.metrics import mean_squared_error\n",
    "import statsmodels.formula.api as smf"
   ]
  },
  {
   "cell_type": "code",
   "execution_count": 2,
   "metadata": {},
   "outputs": [
    {
     "name": "stdout",
     "output_type": "stream",
     "text": [
      "<class 'pandas.core.frame.DataFrame'>\n",
      "RangeIndex: 4185 entries, 0 to 4184\n",
      "Columns: 126 entries, Unnamed: 0 to part_of_day_morning\n",
      "dtypes: float64(1), int64(35), uint8(90)\n",
      "memory usage: 1.5 MB\n"
     ]
    }
   ],
   "source": [
    "df = pd.read_excel(\"regression_1_final_data1.xlsx\")\n",
    "col_remain = df.drop(columns = ['Unnamed: 0', 'street_p', 'pickups', 'street_a', 'avail', 'part_of_day', \n",
    "                                'cluster_id']).columns\n",
    "\n",
    "dict1 = {}\n",
    "count = 0\n",
    "\n",
    "for col in col_remain:\n",
    "    dict1[col] = 'poi_'+str(count)\n",
    "    count += 1\n",
    "\n",
    "df = df.rename(columns = dict1)\n",
    "\n",
    "df = pd.get_dummies(columns = ['cluster_id', 'part_of_day'], drop_first = True, data = df)\n",
    "df.info()\n"
   ]
  },
  {
   "cell_type": "code",
   "execution_count": 3,
   "metadata": {},
   "outputs": [],
   "source": [
    "col_remain = df.drop(columns = ['Unnamed: 0', 'street_p', 'pickups', 'street_a', 'avail']).columns"
   ]
  },
  {
   "cell_type": "code",
   "execution_count": 4,
   "metadata": {},
   "outputs": [],
   "source": [
    "eq_string = col_remain[0]\n",
    "for i in range(1, len(col_remain)):\n",
    "    eq_string = eq_string + \"+\" + col_remain[i]\n",
    "    "
   ]
  },
  {
   "cell_type": "code",
   "execution_count": 5,
   "metadata": {},
   "outputs": [
    {
     "data": {
      "text/plain": [
       "'poi_0+poi_1+poi_2+poi_3+poi_4+poi_5+poi_6+poi_7+poi_8+poi_9+poi_10+poi_11+poi_12+poi_13+poi_14+poi_15+poi_16+poi_17+poi_18+poi_19+poi_20+poi_21+poi_22+poi_23+poi_24+poi_25+poi_26+poi_27+poi_28+poi_29+poi_30+cluster_id_142+cluster_id_218+cluster_id_356+cluster_id_389+cluster_id_418+cluster_id_436+cluster_id_465+cluster_id_515+cluster_id_530+cluster_id_533+cluster_id_555+cluster_id_589+cluster_id_590+cluster_id_742+cluster_id_755+cluster_id_1249+cluster_id_1599+cluster_id_1651+cluster_id_1730+cluster_id_1786+cluster_id_1853+cluster_id_1930+cluster_id_1933+cluster_id_1998+cluster_id_2000+cluster_id_2005+cluster_id_2026+cluster_id_2028+cluster_id_2157+cluster_id_2160+cluster_id_2162+cluster_id_2165+cluster_id_2394+cluster_id_2398+cluster_id_2413+cluster_id_2448+cluster_id_2456+cluster_id_2542+cluster_id_2556+cluster_id_2670+cluster_id_2947+cluster_id_3141+cluster_id_3319+cluster_id_3697+cluster_id_3722+cluster_id_3803+cluster_id_3808+cluster_id_4042+cluster_id_4107+cluster_id_4208+cluster_id_4230+cluster_id_4271+cluster_id_4306+cluster_id_4329+cluster_id_4619+cluster_id_4868+cluster_id_5228+cluster_id_5266+cluster_id_5500+cluster_id_5534+cluster_id_5557+cluster_id_5709+cluster_id_5714+cluster_id_5760+cluster_id_6077+cluster_id_6118+cluster_id_6510+cluster_id_6577+cluster_id_6593+cluster_id_6602+cluster_id_6606+cluster_id_6625+cluster_id_6637+cluster_id_7184+cluster_id_7335+cluster_id_7487+cluster_id_7549+cluster_id_7584+cluster_id_7635+cluster_id_7727+cluster_id_7931+cluster_id_7933+cluster_id_8012+cluster_id_8075+cluster_id_8076+cluster_id_8304+part_of_day_late_evening+part_of_day_late_morning+part_of_day_mid_day+part_of_day_morning'"
      ]
     },
     "execution_count": 5,
     "metadata": {},
     "output_type": "execute_result"
    }
   ],
   "source": [
    "eq_string"
   ]
  },
  {
   "cell_type": "code",
   "execution_count": 6,
   "metadata": {},
   "outputs": [
    {
     "name": "stdout",
     "output_type": "stream",
     "text": [
      "4185\n",
      "2887\n"
     ]
    }
   ],
   "source": [
    "print(len(df))\n",
    "df = df[df['avail'] > 1]\n",
    "print(len(df))"
   ]
  },
  {
   "cell_type": "code",
   "execution_count": 7,
   "metadata": {},
   "outputs": [
    {
     "name": "stdout",
     "output_type": "stream",
     "text": [
      "2887\n",
      "2825\n"
     ]
    }
   ],
   "source": [
    "print(len(df))\n",
    "df = df[df['pickups'] > 1]\n",
    "print(len(df))"
   ]
  },
  {
   "cell_type": "code",
   "execution_count": 8,
   "metadata": {},
   "outputs": [
    {
     "data": {
      "text/plain": [
       "0       1.538976\n",
       "1       2.783342\n",
       "2       3.862148\n",
       "4       2.408545\n",
       "9       2.551539\n",
       "          ...   \n",
       "4178    3.291049\n",
       "4179    3.126173\n",
       "4180    1.622353\n",
       "4182    1.220441\n",
       "4184    4.819888\n",
       "Name: avail, Length: 2825, dtype: float64"
      ]
     },
     "execution_count": 8,
     "metadata": {},
     "output_type": "execute_result"
    }
   ],
   "source": [
    "df['avail']"
   ]
  },
  {
   "cell_type": "code",
   "execution_count": 9,
   "metadata": {},
   "outputs": [],
   "source": [
    "df['ln_mean_avail'] = np.log(df['avail'].values)\n",
    "df['ln_pickups'] = np.log(df['pickups'].values)"
   ]
  },
  {
   "cell_type": "code",
   "execution_count": 10,
   "metadata": {},
   "outputs": [],
   "source": [
    "formula = 'ln_pickups ~ ln_mean_avail' + '+' + eq_string"
   ]
  },
  {
   "cell_type": "code",
   "execution_count": 11,
   "metadata": {},
   "outputs": [
    {
     "data": {
      "text/plain": [
       "'ln_pickups ~ ln_mean_avail+poi_0+poi_1+poi_2+poi_3+poi_4+poi_5+poi_6+poi_7+poi_8+poi_9+poi_10+poi_11+poi_12+poi_13+poi_14+poi_15+poi_16+poi_17+poi_18+poi_19+poi_20+poi_21+poi_22+poi_23+poi_24+poi_25+poi_26+poi_27+poi_28+poi_29+poi_30+cluster_id_142+cluster_id_218+cluster_id_356+cluster_id_389+cluster_id_418+cluster_id_436+cluster_id_465+cluster_id_515+cluster_id_530+cluster_id_533+cluster_id_555+cluster_id_589+cluster_id_590+cluster_id_742+cluster_id_755+cluster_id_1249+cluster_id_1599+cluster_id_1651+cluster_id_1730+cluster_id_1786+cluster_id_1853+cluster_id_1930+cluster_id_1933+cluster_id_1998+cluster_id_2000+cluster_id_2005+cluster_id_2026+cluster_id_2028+cluster_id_2157+cluster_id_2160+cluster_id_2162+cluster_id_2165+cluster_id_2394+cluster_id_2398+cluster_id_2413+cluster_id_2448+cluster_id_2456+cluster_id_2542+cluster_id_2556+cluster_id_2670+cluster_id_2947+cluster_id_3141+cluster_id_3319+cluster_id_3697+cluster_id_3722+cluster_id_3803+cluster_id_3808+cluster_id_4042+cluster_id_4107+cluster_id_4208+cluster_id_4230+cluster_id_4271+cluster_id_4306+cluster_id_4329+cluster_id_4619+cluster_id_4868+cluster_id_5228+cluster_id_5266+cluster_id_5500+cluster_id_5534+cluster_id_5557+cluster_id_5709+cluster_id_5714+cluster_id_5760+cluster_id_6077+cluster_id_6118+cluster_id_6510+cluster_id_6577+cluster_id_6593+cluster_id_6602+cluster_id_6606+cluster_id_6625+cluster_id_6637+cluster_id_7184+cluster_id_7335+cluster_id_7487+cluster_id_7549+cluster_id_7584+cluster_id_7635+cluster_id_7727+cluster_id_7931+cluster_id_7933+cluster_id_8012+cluster_id_8075+cluster_id_8076+cluster_id_8304+part_of_day_late_evening+part_of_day_late_morning+part_of_day_mid_day+part_of_day_morning'"
      ]
     },
     "execution_count": 11,
     "metadata": {},
     "output_type": "execute_result"
    }
   ],
   "source": [
    "formula"
   ]
  },
  {
   "cell_type": "code",
   "execution_count": 12,
   "metadata": {},
   "outputs": [
    {
     "name": "stdout",
     "output_type": "stream",
     "text": [
      "                            OLS Regression Results                            \n",
      "==============================================================================\n",
      "Dep. Variable:             ln_pickups   R-squared:                       0.797\n",
      "Model:                            OLS   Adj. R-squared:                  0.788\n",
      "Method:                 Least Squares   F-statistic:                     87.67\n",
      "Date:                Tue, 23 Mar 2021   Prob (F-statistic):               0.00\n",
      "Time:                        21:14:24   Log-Likelihood:                -2024.9\n",
      "No. Observations:                2825   AIC:                             4294.\n",
      "Df Residuals:                    2703   BIC:                             5019.\n",
      "Df Model:                         121                                         \n",
      "Covariance Type:            nonrobust                                         \n",
      "============================================================================================\n",
      "                               coef    std err          t      P>|t|      [0.025      0.975]\n",
      "--------------------------------------------------------------------------------------------\n",
      "Intercept                    3.4014      0.100     33.976      0.000       3.205       3.598\n",
      "ln_mean_avail                1.0925      0.019     58.979      0.000       1.056       1.129\n",
      "poi_0                        0.0452      0.022      2.082      0.037       0.003       0.088\n",
      "poi_1                        0.0339      0.014      2.455      0.014       0.007       0.061\n",
      "poi_2                        0.0021      0.007      0.283      0.778      -0.013       0.017\n",
      "poi_3                        0.0356      0.017      2.077      0.038       0.002       0.069\n",
      "poi_4                       -0.0347      0.014     -2.519      0.012      -0.062      -0.008\n",
      "poi_5                        0.0189      0.012      1.545      0.122      -0.005       0.043\n",
      "poi_6                        0.0194      0.014      1.399      0.162      -0.008       0.047\n",
      "poi_7                        0.0134      0.006      2.102      0.036       0.001       0.026\n",
      "poi_8                        0.0829      0.017      4.794      0.000       0.049       0.117\n",
      "poi_9                       -0.0025      0.008     -0.294      0.769      -0.019       0.014\n",
      "poi_10                       0.0359      0.009      3.815      0.000       0.017       0.054\n",
      "poi_11                       0.0017      0.002      1.059      0.290      -0.001       0.005\n",
      "poi_12                      -0.0088      0.012     -0.727      0.467      -0.032       0.015\n",
      "poi_13                       0.0039      0.005      0.788      0.431      -0.006       0.014\n",
      "poi_14                      -0.0334      0.015     -2.179      0.029      -0.063      -0.003\n",
      "poi_15                       0.0488      0.021      2.323      0.020       0.008       0.090\n",
      "poi_16                       0.0070      0.011      0.648      0.517      -0.014       0.028\n",
      "poi_17                      -0.0286      0.024     -1.195      0.232      -0.076       0.018\n",
      "poi_18                       0.0008      0.022      0.036      0.971      -0.042       0.043\n",
      "poi_19                       0.0249      0.008      3.112      0.002       0.009       0.041\n",
      "poi_20                       0.0109      0.014      0.779      0.436      -0.017       0.038\n",
      "poi_21                       0.0400      0.017      2.395      0.017       0.007       0.073\n",
      "poi_22                      -0.0323      0.016     -1.992      0.047      -0.064      -0.000\n",
      "poi_23                      -0.0148      0.068     -0.216      0.829      -0.149       0.119\n",
      "poi_24                       0.0111      0.064      0.172      0.863      -0.115       0.137\n",
      "poi_25                      -0.0021      0.027     -0.076      0.939      -0.055       0.051\n",
      "poi_26                       0.0247      0.011      2.203      0.028       0.003       0.047\n",
      "poi_27                       0.0027      0.004      0.714      0.475      -0.005       0.010\n",
      "poi_28                       0.0409      0.018      2.305      0.021       0.006       0.076\n",
      "poi_29                      -0.0003      0.006     -0.050      0.960      -0.011       0.011\n",
      "poi_30                       0.0252      0.011      2.307      0.021       0.004       0.047\n",
      "cluster_id_142              -0.3779      0.127     -2.980      0.003      -0.627      -0.129\n",
      "cluster_id_218              -0.6564      0.140     -4.676      0.000      -0.932      -0.381\n",
      "cluster_id_356              -0.5997      0.127     -4.723      0.000      -0.849      -0.351\n",
      "cluster_id_389              -0.2705      0.122     -2.220      0.027      -0.510      -0.032\n",
      "cluster_id_418              -0.6192      0.127     -4.876      0.000      -0.868      -0.370\n",
      "cluster_id_436              -0.4254      0.128     -3.326      0.001      -0.676      -0.175\n",
      "cluster_id_465              -0.6926      0.130     -5.327      0.000      -0.948      -0.438\n",
      "cluster_id_515              -0.5936      0.122     -4.859      0.000      -0.833      -0.354\n",
      "cluster_id_530              -0.2880      0.149     -1.936      0.053      -0.580       0.004\n",
      "cluster_id_533              -0.4259      0.142     -2.996      0.003      -0.705      -0.147\n",
      "cluster_id_555              -0.2732      0.127     -2.147      0.032      -0.523      -0.024\n",
      "cluster_id_589              -0.1495      0.125     -1.197      0.231      -0.394       0.095\n",
      "cluster_id_590              -1.0763      0.153     -7.028      0.000      -1.377      -0.776\n",
      "cluster_id_742              -0.1703      0.121     -1.410      0.159      -0.407       0.067\n",
      "cluster_id_755              -0.1828      0.169     -1.083      0.279      -0.514       0.148\n",
      "cluster_id_1249             -0.3863      0.151     -2.561      0.010      -0.682      -0.091\n",
      "cluster_id_1599             -1.5546      0.215     -7.237      0.000      -1.976      -1.133\n",
      "cluster_id_1651             -0.3889      0.193     -2.018      0.044      -0.767      -0.011\n",
      "cluster_id_1730             -0.0777      0.136     -0.572      0.567      -0.344       0.189\n",
      "cluster_id_1786             -0.2456      0.118     -2.087      0.037      -0.476      -0.015\n",
      "cluster_id_1853             -0.9200      0.122     -7.566      0.000      -1.159      -0.682\n",
      "cluster_id_1930             -0.9612      0.140     -6.870      0.000      -1.236      -0.687\n",
      "cluster_id_1933             -0.0224      0.133     -0.168      0.866      -0.283       0.238\n",
      "cluster_id_1998             -0.2596      0.139     -1.866      0.062      -0.532       0.013\n",
      "cluster_id_2000             -0.5710      0.131     -4.372      0.000      -0.827      -0.315\n",
      "cluster_id_2005             -0.8335      0.136     -6.125      0.000      -1.100      -0.567\n",
      "cluster_id_2026             -0.3026      0.119     -2.544      0.011      -0.536      -0.069\n",
      "cluster_id_2028             -0.8781      0.121     -7.249      0.000      -1.116      -0.641\n",
      "cluster_id_2157             -0.3439      0.137     -2.508      0.012      -0.613      -0.075\n",
      "cluster_id_2160             -0.9258      0.140     -6.606      0.000      -1.201      -0.651\n",
      "cluster_id_2162             -0.7294      0.152     -4.805      0.000      -1.027      -0.432\n",
      "cluster_id_2165             -0.2580      0.169     -1.523      0.128      -0.590       0.074\n",
      "cluster_id_2394             -0.2527      0.151     -1.678      0.094      -0.548       0.043\n",
      "cluster_id_2398             -0.4084      0.122     -3.358      0.001      -0.647      -0.170\n",
      "cluster_id_2413             -0.1871      0.121     -1.548      0.122      -0.424       0.050\n",
      "cluster_id_2448             -0.5556      0.152     -3.644      0.000      -0.855      -0.257\n",
      "cluster_id_2456             -0.4549      0.125     -3.625      0.000      -0.701      -0.209\n",
      "cluster_id_2542             -0.5789      0.149     -3.882      0.000      -0.871      -0.286\n",
      "cluster_id_2556             -0.2367      0.124     -1.908      0.057      -0.480       0.007\n",
      "cluster_id_2670             -0.3800      0.130     -2.923      0.003      -0.635      -0.125\n",
      "cluster_id_2947              0.4210      0.174      2.419      0.016       0.080       0.762\n",
      "cluster_id_3141             -0.5575      0.158     -3.536      0.000      -0.867      -0.248\n",
      "cluster_id_3319             -0.4569      0.161     -2.843      0.005      -0.772      -0.142\n",
      "cluster_id_3697             -0.7086      0.156     -4.557      0.000      -1.013      -0.404\n",
      "cluster_id_3722             -0.9723      0.136     -7.160      0.000      -1.238      -0.706\n",
      "cluster_id_3803             -0.4137      0.156     -2.651      0.008      -0.720      -0.108\n",
      "cluster_id_3808             -0.3414      0.187     -1.825      0.068      -0.708       0.025\n",
      "cluster_id_4042             -0.6418      0.144     -4.462      0.000      -0.924      -0.360\n",
      "cluster_id_4107             -0.1385      0.157     -0.884      0.377      -0.446       0.169\n",
      "cluster_id_4208             -0.6032      0.119     -5.086      0.000      -0.836      -0.371\n",
      "cluster_id_4230             -0.8084      0.130     -6.221      0.000      -1.063      -0.554\n",
      "cluster_id_4271             -1.3846      0.174     -7.970      0.000      -1.725      -1.044\n",
      "cluster_id_4306             -0.4662      0.143     -3.268      0.001      -0.746      -0.186\n",
      "cluster_id_4329             -0.5146      0.139     -3.699      0.000      -0.787      -0.242\n",
      "cluster_id_4619             -0.2976      0.127     -2.352      0.019      -0.546      -0.050\n",
      "cluster_id_4868             -0.3718      0.191     -1.950      0.051      -0.746       0.002\n",
      "cluster_id_5228             -0.5838      0.141     -4.136      0.000      -0.860      -0.307\n",
      "cluster_id_5266             -0.4209      0.150     -2.810      0.005      -0.715      -0.127\n",
      "cluster_id_5500             -0.1203      0.183     -0.657      0.511      -0.479       0.239\n",
      "cluster_id_5534             -0.6288      0.124     -5.064      0.000      -0.872      -0.385\n",
      "cluster_id_5557             -0.1946      0.132     -1.477      0.140      -0.453       0.064\n",
      "cluster_id_5709             -1.1652      0.143     -8.123      0.000      -1.446      -0.884\n",
      "cluster_id_5714             -0.6453      0.147     -4.403      0.000      -0.933      -0.358\n",
      "cluster_id_5760             -1.2323      0.134     -9.164      0.000      -1.496      -0.969\n",
      "cluster_id_6077              1.8260      0.204      8.937      0.000       1.425       2.227\n",
      "cluster_id_6118          -6.778e-17   8.64e-17     -0.784      0.433   -2.37e-16    1.02e-16\n",
      "cluster_id_6510             -1.4617      0.250     -5.839      0.000      -1.953      -0.971\n",
      "cluster_id_6577             -0.7296      0.129     -5.638      0.000      -0.983      -0.476\n",
      "cluster_id_6593             -0.4873      0.149     -3.262      0.001      -0.780      -0.194\n",
      "cluster_id_6602             -0.9029      0.123     -7.343      0.000      -1.144      -0.662\n",
      "cluster_id_6606             -0.8446      0.129     -6.569      0.000      -1.097      -0.592\n",
      "cluster_id_6625             -0.6178      0.150     -4.112      0.000      -0.912      -0.323\n",
      "cluster_id_6637             -0.8093      0.139     -5.823      0.000      -1.082      -0.537\n",
      "cluster_id_7184             -1.1722      0.148     -7.923      0.000      -1.462      -0.882\n",
      "cluster_id_7335             -0.9103      0.188     -4.830      0.000      -1.280      -0.541\n",
      "cluster_id_7487             -0.6116      0.126     -4.868      0.000      -0.858      -0.365\n",
      "cluster_id_7549             -0.3671      0.169     -2.168      0.030      -0.699      -0.035\n",
      "cluster_id_7584             -0.5418      0.120     -4.508      0.000      -0.778      -0.306\n",
      "cluster_id_7635             -0.5321      0.148     -3.605      0.000      -0.822      -0.243\n",
      "cluster_id_7727              0.0974      0.143      0.681      0.496      -0.183       0.378\n",
      "cluster_id_7931             -0.3510      0.140     -2.509      0.012      -0.625      -0.077\n",
      "cluster_id_7933             -0.3948      0.122     -3.239      0.001      -0.634      -0.156\n",
      "cluster_id_8012             -0.4928      0.124     -3.981      0.000      -0.736      -0.250\n",
      "cluster_id_8075             -0.4369      0.138     -3.169      0.002      -0.707      -0.167\n",
      "cluster_id_8076             -0.6013      0.126     -4.772      0.000      -0.848      -0.354\n",
      "cluster_id_8304             -0.7805      0.127     -6.131      0.000      -1.030      -0.531\n",
      "part_of_day_late_evening    -1.1530      0.030    -38.570      0.000      -1.212      -1.094\n",
      "part_of_day_late_morning    -1.3531      0.030    -44.743      0.000      -1.412      -1.294\n",
      "part_of_day_mid_day         -0.5438      0.030    -18.036      0.000      -0.603      -0.485\n",
      "part_of_day_morning         -1.3876      0.030    -46.096      0.000      -1.447      -1.329\n",
      "==============================================================================\n",
      "Omnibus:                      149.902   Durbin-Watson:                   1.900\n",
      "Prob(Omnibus):                  0.000   Jarque-Bera (JB):              257.792\n",
      "Skew:                          -0.418   Prob(JB):                     1.05e-56\n",
      "Kurtosis:                       4.222   Cond. No.                     2.90e+17\n",
      "==============================================================================\n",
      "\n",
      "Warnings:\n",
      "[1] Standard Errors assume that the covariance matrix of the errors is correctly specified.\n",
      "[2] The smallest eigenvalue is 7.87e-30. This might indicate that there are\n",
      "strong multicollinearity problems or that the design matrix is singular.\n"
     ]
    }
   ],
   "source": [
    "mod = smf.ols(formula= formula, data=df)\n",
    "res = mod.fit()\n",
    "results_summary = res.summary()\n",
    "print(res.summary())"
   ]
  },
  {
   "cell_type": "code",
   "execution_count": 13,
   "metadata": {},
   "outputs": [],
   "source": [
    "results_as_html = results_summary.tables[1].as_html()\n",
    "df_results1 = pd.read_html(results_as_html, header=0, index_col=0)[0]"
   ]
  },
  {
   "cell_type": "code",
   "execution_count": 14,
   "metadata": {},
   "outputs": [],
   "source": [
    "df_results1 = df_results1.reset_index()"
   ]
  },
  {
   "cell_type": "code",
   "execution_count": 15,
   "metadata": {},
   "outputs": [
    {
     "data": {
      "text/html": [
       "<div>\n",
       "<style scoped>\n",
       "    .dataframe tbody tr th:only-of-type {\n",
       "        vertical-align: middle;\n",
       "    }\n",
       "\n",
       "    .dataframe tbody tr th {\n",
       "        vertical-align: top;\n",
       "    }\n",
       "\n",
       "    .dataframe thead th {\n",
       "        text-align: right;\n",
       "    }\n",
       "</style>\n",
       "<table border=\"1\" class=\"dataframe\">\n",
       "  <thead>\n",
       "    <tr style=\"text-align: right;\">\n",
       "      <th></th>\n",
       "      <th>index</th>\n",
       "      <th>coef</th>\n",
       "      <th>std err</th>\n",
       "      <th>t</th>\n",
       "      <th>P&gt;|t|</th>\n",
       "      <th>[0.025</th>\n",
       "      <th>0.975]</th>\n",
       "    </tr>\n",
       "  </thead>\n",
       "  <tbody>\n",
       "    <tr>\n",
       "      <th>0</th>\n",
       "      <td>Intercept</td>\n",
       "      <td>3.4014</td>\n",
       "      <td>0.100</td>\n",
       "      <td>33.976</td>\n",
       "      <td>0.000</td>\n",
       "      <td>3.205</td>\n",
       "      <td>3.598</td>\n",
       "    </tr>\n",
       "    <tr>\n",
       "      <th>1</th>\n",
       "      <td>ln_mean_avail</td>\n",
       "      <td>1.0925</td>\n",
       "      <td>0.019</td>\n",
       "      <td>58.979</td>\n",
       "      <td>0.000</td>\n",
       "      <td>1.056</td>\n",
       "      <td>1.129</td>\n",
       "    </tr>\n",
       "    <tr>\n",
       "      <th>2</th>\n",
       "      <td>poi_0</td>\n",
       "      <td>0.0452</td>\n",
       "      <td>0.022</td>\n",
       "      <td>2.082</td>\n",
       "      <td>0.037</td>\n",
       "      <td>0.003</td>\n",
       "      <td>0.088</td>\n",
       "    </tr>\n",
       "    <tr>\n",
       "      <th>3</th>\n",
       "      <td>poi_1</td>\n",
       "      <td>0.0339</td>\n",
       "      <td>0.014</td>\n",
       "      <td>2.455</td>\n",
       "      <td>0.014</td>\n",
       "      <td>0.007</td>\n",
       "      <td>0.061</td>\n",
       "    </tr>\n",
       "    <tr>\n",
       "      <th>4</th>\n",
       "      <td>poi_2</td>\n",
       "      <td>0.0021</td>\n",
       "      <td>0.007</td>\n",
       "      <td>0.283</td>\n",
       "      <td>0.778</td>\n",
       "      <td>-0.013</td>\n",
       "      <td>0.017</td>\n",
       "    </tr>\n",
       "    <tr>\n",
       "      <th>...</th>\n",
       "      <td>...</td>\n",
       "      <td>...</td>\n",
       "      <td>...</td>\n",
       "      <td>...</td>\n",
       "      <td>...</td>\n",
       "      <td>...</td>\n",
       "      <td>...</td>\n",
       "    </tr>\n",
       "    <tr>\n",
       "      <th>118</th>\n",
       "      <td>cluster_id_8304</td>\n",
       "      <td>-0.7805</td>\n",
       "      <td>0.127</td>\n",
       "      <td>-6.131</td>\n",
       "      <td>0.000</td>\n",
       "      <td>-1.030</td>\n",
       "      <td>-0.531</td>\n",
       "    </tr>\n",
       "    <tr>\n",
       "      <th>119</th>\n",
       "      <td>part_of_day_late_evening</td>\n",
       "      <td>-1.1530</td>\n",
       "      <td>0.030</td>\n",
       "      <td>-38.570</td>\n",
       "      <td>0.000</td>\n",
       "      <td>-1.212</td>\n",
       "      <td>-1.094</td>\n",
       "    </tr>\n",
       "    <tr>\n",
       "      <th>120</th>\n",
       "      <td>part_of_day_late_morning</td>\n",
       "      <td>-1.3531</td>\n",
       "      <td>0.030</td>\n",
       "      <td>-44.743</td>\n",
       "      <td>0.000</td>\n",
       "      <td>-1.412</td>\n",
       "      <td>-1.294</td>\n",
       "    </tr>\n",
       "    <tr>\n",
       "      <th>121</th>\n",
       "      <td>part_of_day_mid_day</td>\n",
       "      <td>-0.5438</td>\n",
       "      <td>0.030</td>\n",
       "      <td>-18.036</td>\n",
       "      <td>0.000</td>\n",
       "      <td>-0.603</td>\n",
       "      <td>-0.485</td>\n",
       "    </tr>\n",
       "    <tr>\n",
       "      <th>122</th>\n",
       "      <td>part_of_day_morning</td>\n",
       "      <td>-1.3876</td>\n",
       "      <td>0.030</td>\n",
       "      <td>-46.096</td>\n",
       "      <td>0.000</td>\n",
       "      <td>-1.447</td>\n",
       "      <td>-1.329</td>\n",
       "    </tr>\n",
       "  </tbody>\n",
       "</table>\n",
       "<p>123 rows × 7 columns</p>\n",
       "</div>"
      ],
      "text/plain": [
       "                        index    coef  std err       t  P>|t|  [0.025  0.975]\n",
       "0                   Intercept  3.4014    0.100  33.976  0.000   3.205   3.598\n",
       "1               ln_mean_avail  1.0925    0.019  58.979  0.000   1.056   1.129\n",
       "2                       poi_0  0.0452    0.022   2.082  0.037   0.003   0.088\n",
       "3                       poi_1  0.0339    0.014   2.455  0.014   0.007   0.061\n",
       "4                       poi_2  0.0021    0.007   0.283  0.778  -0.013   0.017\n",
       "..                        ...     ...      ...     ...    ...     ...     ...\n",
       "118           cluster_id_8304 -0.7805    0.127  -6.131  0.000  -1.030  -0.531\n",
       "119  part_of_day_late_evening -1.1530    0.030 -38.570  0.000  -1.212  -1.094\n",
       "120  part_of_day_late_morning -1.3531    0.030 -44.743  0.000  -1.412  -1.294\n",
       "121       part_of_day_mid_day -0.5438    0.030 -18.036  0.000  -0.603  -0.485\n",
       "122       part_of_day_morning -1.3876    0.030 -46.096  0.000  -1.447  -1.329\n",
       "\n",
       "[123 rows x 7 columns]"
      ]
     },
     "execution_count": 15,
     "metadata": {},
     "output_type": "execute_result"
    }
   ],
   "source": [
    "df_results1"
   ]
  },
  {
   "cell_type": "code",
   "execution_count": 16,
   "metadata": {},
   "outputs": [],
   "source": [
    "dict_p = dict(zip(df_results1['index'].values, df_results1['P>|t|'].values))"
   ]
  },
  {
   "cell_type": "code",
   "execution_count": 17,
   "metadata": {},
   "outputs": [],
   "source": [
    "col_drop1 = []\n",
    "for key, value in dict_p.items():\n",
    "    if value > 0.005:\n",
    "        col_drop1.append(key)"
   ]
  },
  {
   "cell_type": "code",
   "execution_count": 18,
   "metadata": {},
   "outputs": [],
   "source": [
    "col_drop2 = []\n",
    "for key, value in dict_p.items():\n",
    "    if value > 0.05:\n",
    "        col_drop2.append(key)"
   ]
  },
  {
   "cell_type": "code",
   "execution_count": 19,
   "metadata": {},
   "outputs": [
    {
     "data": {
      "text/plain": [
       "Index(['poi_0', 'poi_1', 'poi_2', 'poi_3', 'poi_4', 'poi_5', 'poi_6', 'poi_7',\n",
       "       'poi_8', 'poi_9',\n",
       "       ...\n",
       "       'cluster_id_8012', 'cluster_id_8075', 'cluster_id_8076',\n",
       "       'cluster_id_8304', 'part_of_day_late_evening',\n",
       "       'part_of_day_late_morning', 'part_of_day_mid_day',\n",
       "       'part_of_day_morning', 'ln_mean_avail', 'ln_pickups'],\n",
       "      dtype='object', length=123)"
      ]
     },
     "execution_count": 19,
     "metadata": {},
     "output_type": "execute_result"
    }
   ],
   "source": [
    "df = df.drop(columns = ['Unnamed: 0', 'street_p', 'pickups', 'street_a', 'avail'])\n",
    "df.columns"
   ]
  },
  {
   "cell_type": "code",
   "execution_count": 20,
   "metadata": {},
   "outputs": [
    {
     "data": {
      "text/plain": [
       "'poi_8+poi_10+poi_19+cluster_id_142+cluster_id_218+cluster_id_356+cluster_id_418+cluster_id_436+cluster_id_465+cluster_id_515+cluster_id_533+cluster_id_590+cluster_id_1599+cluster_id_1853+cluster_id_1930+cluster_id_2000+cluster_id_2005+cluster_id_2028+cluster_id_2160+cluster_id_2162+cluster_id_2398+cluster_id_2448+cluster_id_2456+cluster_id_2542+cluster_id_2670+cluster_id_3141+cluster_id_3319+cluster_id_3697+cluster_id_3722+cluster_id_4042+cluster_id_4208+cluster_id_4230+cluster_id_4271+cluster_id_4306+cluster_id_4329+cluster_id_5228+cluster_id_5266+cluster_id_5534+cluster_id_5709+cluster_id_5714+cluster_id_5760+cluster_id_6077+cluster_id_6510+cluster_id_6577+cluster_id_6593+cluster_id_6602+cluster_id_6606+cluster_id_6625+cluster_id_6637+cluster_id_7184+cluster_id_7335+cluster_id_7487+cluster_id_7584+cluster_id_7635+cluster_id_7933+cluster_id_8012+cluster_id_8075+cluster_id_8076+cluster_id_8304+part_of_day_late_evening+part_of_day_late_morning+part_of_day_mid_day+part_of_day_morning'"
      ]
     },
     "execution_count": 20,
     "metadata": {},
     "output_type": "execute_result"
    }
   ],
   "source": [
    "df1 = df.drop(columns = col_drop1)\n",
    "col_formula1 = df1.drop(columns = ['ln_pickups', 'ln_mean_avail']).columns\n",
    "\n",
    "eq_string1 = col_formula1[0]\n",
    "for i in range(1, len(col_formula1)):\n",
    "    eq_string1 = eq_string1 + \"+\" + col_formula1[i]\n",
    "\n",
    "eq_string1"
   ]
  },
  {
   "cell_type": "code",
   "execution_count": 21,
   "metadata": {},
   "outputs": [
    {
     "name": "stdout",
     "output_type": "stream",
     "text": [
      "                            OLS Regression Results                            \n",
      "==============================================================================\n",
      "Dep. Variable:             ln_pickups   R-squared:                       0.783\n",
      "Model:                            OLS   Adj. R-squared:                  0.778\n",
      "Method:                 Least Squares   F-statistic:                     156.0\n",
      "Date:                Tue, 23 Mar 2021   Prob (F-statistic):               0.00\n",
      "Time:                        21:14:24   Log-Likelihood:                -2115.6\n",
      "No. Observations:                2825   AIC:                             4361.\n",
      "Df Residuals:                    2760   BIC:                             4748.\n",
      "Df Model:                          64                                         \n",
      "Covariance Type:            nonrobust                                         \n",
      "============================================================================================\n",
      "                               coef    std err          t      P>|t|      [0.025      0.975]\n",
      "--------------------------------------------------------------------------------------------\n",
      "Intercept                    3.3035      0.031    107.718      0.000       3.243       3.364\n",
      "ln_mean_avail                1.1190      0.017     67.537      0.000       1.087       1.152\n",
      "poi_8                        0.0608      0.013      4.707      0.000       0.035       0.086\n",
      "poi_10                       0.0377      0.006      5.830      0.000       0.025       0.050\n",
      "poi_19                       0.0214      0.007      3.055      0.002       0.008       0.035\n",
      "cluster_id_142              -0.2200      0.080     -2.742      0.006      -0.377      -0.063\n",
      "cluster_id_218              -0.4803      0.104     -4.621      0.000      -0.684      -0.276\n",
      "cluster_id_356              -0.4411      0.080     -5.497      0.000      -0.598      -0.284\n",
      "cluster_id_418              -0.2314      0.078     -2.953      0.003      -0.385      -0.078\n",
      "cluster_id_436              -0.2643      0.086     -3.057      0.002      -0.434      -0.095\n",
      "cluster_id_465              -0.4579      0.089     -5.141      0.000      -0.633      -0.283\n",
      "cluster_id_515              -0.3898      0.074     -5.239      0.000      -0.536      -0.244\n",
      "cluster_id_533              -0.2282      0.097     -2.356      0.019      -0.418      -0.038\n",
      "cluster_id_590              -0.8651      0.112     -7.716      0.000      -1.085      -0.645\n",
      "cluster_id_1599             -1.5517      0.178     -8.722      0.000      -1.900      -1.203\n",
      "cluster_id_1853             -0.6915      0.080     -8.660      0.000      -0.848      -0.535\n",
      "cluster_id_1930             -0.7527      0.097     -7.735      0.000      -0.944      -0.562\n",
      "cluster_id_2000             -0.4531      0.091     -4.979      0.000      -0.632      -0.275\n",
      "cluster_id_2005             -0.6768      0.095     -7.096      0.000      -0.864      -0.490\n",
      "cluster_id_2028             -0.6389      0.076     -8.375      0.000      -0.788      -0.489\n",
      "cluster_id_2160             -0.8053      0.108     -7.474      0.000      -1.017      -0.594\n",
      "cluster_id_2162             -0.3762      0.123     -3.051      0.002      -0.618      -0.134\n",
      "cluster_id_2398             -0.1925      0.070     -2.763      0.006      -0.329      -0.056\n",
      "cluster_id_2448             -0.4221      0.118     -3.584      0.000      -0.653      -0.191\n",
      "cluster_id_2456             -0.1998      0.085     -2.364      0.018      -0.366      -0.034\n",
      "cluster_id_2542             -0.3835      0.100     -3.854      0.000      -0.579      -0.188\n",
      "cluster_id_2670             -0.2128      0.081     -2.627      0.009      -0.372      -0.054\n",
      "cluster_id_3141             -0.3116      0.120     -2.596      0.009      -0.547      -0.076\n",
      "cluster_id_3319             -0.2098      0.124     -1.698      0.090      -0.452       0.032\n",
      "cluster_id_3697             -0.5138      0.124     -4.139      0.000      -0.757      -0.270\n",
      "cluster_id_3722             -0.8356      0.097     -8.585      0.000      -1.026      -0.645\n",
      "cluster_id_4042             -0.3065      0.101     -3.049      0.002      -0.504      -0.109\n",
      "cluster_id_4208             -0.4272      0.068     -6.325      0.000      -0.560      -0.295\n",
      "cluster_id_4230             -0.6434      0.092     -7.030      0.000      -0.823      -0.464\n",
      "cluster_id_4271             -1.1785      0.127     -9.281      0.000      -1.427      -0.929\n",
      "cluster_id_4306             -0.3235      0.109     -2.958      0.003      -0.538      -0.109\n",
      "cluster_id_4329             -0.2868      0.097     -2.947      0.003      -0.478      -0.096\n",
      "cluster_id_5228             -0.4062      0.097     -4.205      0.000      -0.596      -0.217\n",
      "cluster_id_5266             -0.2119      0.105     -2.016      0.044      -0.418      -0.006\n",
      "cluster_id_5534             -0.3785      0.078     -4.875      0.000      -0.531      -0.226\n",
      "cluster_id_5709             -0.9403      0.106     -8.875      0.000      -1.148      -0.733\n",
      "cluster_id_5714             -0.3996      0.115     -3.480      0.001      -0.625      -0.174\n",
      "cluster_id_5760             -0.8041      0.069    -11.595      0.000      -0.940      -0.668\n",
      "cluster_id_6077              1.9527      0.184     10.599      0.000       1.591       2.314\n",
      "cluster_id_6510             -1.3345      0.234     -5.700      0.000      -1.794      -0.875\n",
      "cluster_id_6577             -0.3832      0.087     -4.397      0.000      -0.554      -0.212\n",
      "cluster_id_6593             -0.3410      0.117     -2.903      0.004      -0.571      -0.111\n",
      "cluster_id_6602             -0.7486      0.080     -9.355      0.000      -0.906      -0.592\n",
      "cluster_id_6606             -0.6656      0.085     -7.863      0.000      -0.832      -0.500\n",
      "cluster_id_6625             -0.4829      0.120     -4.012      0.000      -0.719      -0.247\n",
      "cluster_id_6637             -0.4349      0.099     -4.414      0.000      -0.628      -0.242\n",
      "cluster_id_7184             -0.7459      0.100     -7.464      0.000      -0.942      -0.550\n",
      "cluster_id_7335             -0.4926      0.110     -4.486      0.000      -0.708      -0.277\n",
      "cluster_id_7487             -0.4856      0.085     -5.734      0.000      -0.652      -0.320\n",
      "cluster_id_7584             -0.3043      0.070     -4.354      0.000      -0.441      -0.167\n",
      "cluster_id_7635             -0.3538      0.115     -3.084      0.002      -0.579      -0.129\n",
      "cluster_id_7933             -0.1304      0.080     -1.639      0.101      -0.286       0.026\n",
      "cluster_id_8012             -0.2536      0.081     -3.124      0.002      -0.413      -0.094\n",
      "cluster_id_8075             -0.1558      0.096     -1.621      0.105      -0.344       0.033\n",
      "cluster_id_8076             -0.3501      0.071     -4.901      0.000      -0.490      -0.210\n",
      "cluster_id_8304             -0.4507      0.085     -5.326      0.000      -0.617      -0.285\n",
      "part_of_day_late_evening    -1.1544      0.031    -37.816      0.000      -1.214      -1.095\n",
      "part_of_day_late_morning    -1.3521      0.031    -43.773      0.000      -1.413      -1.292\n",
      "part_of_day_mid_day         -0.5435      0.031    -17.648      0.000      -0.604      -0.483\n",
      "part_of_day_morning         -1.3874      0.031    -45.129      0.000      -1.448      -1.327\n",
      "==============================================================================\n",
      "Omnibus:                      158.476   Durbin-Watson:                   1.909\n",
      "Prob(Omnibus):                  0.000   Jarque-Bera (JB):              252.850\n",
      "Skew:                          -0.460   Prob(JB):                     1.24e-55\n",
      "Kurtosis:                       4.141   Cond. No.                         67.3\n",
      "==============================================================================\n",
      "\n",
      "Warnings:\n",
      "[1] Standard Errors assume that the covariance matrix of the errors is correctly specified.\n"
     ]
    }
   ],
   "source": [
    "formula1 = 'ln_pickups ~ ln_mean_avail' + '+' + eq_string1\n",
    "mod = smf.ols(formula= formula1, data=df1)\n",
    "res = mod.fit()\n",
    "results_summary = res.summary()\n",
    "print(res.summary())"
   ]
  },
  {
   "cell_type": "code",
   "execution_count": 22,
   "metadata": {},
   "outputs": [
    {
     "data": {
      "text/plain": [
       "'poi_0+poi_1+poi_3+poi_4+poi_7+poi_8+poi_10+poi_14+poi_15+poi_19+poi_21+poi_22+poi_26+poi_28+poi_30+cluster_id_142+cluster_id_218+cluster_id_356+cluster_id_389+cluster_id_418+cluster_id_436+cluster_id_465+cluster_id_515+cluster_id_533+cluster_id_555+cluster_id_590+cluster_id_1249+cluster_id_1599+cluster_id_1651+cluster_id_1786+cluster_id_1853+cluster_id_1930+cluster_id_2000+cluster_id_2005+cluster_id_2026+cluster_id_2028+cluster_id_2157+cluster_id_2160+cluster_id_2162+cluster_id_2398+cluster_id_2448+cluster_id_2456+cluster_id_2542+cluster_id_2670+cluster_id_2947+cluster_id_3141+cluster_id_3319+cluster_id_3697+cluster_id_3722+cluster_id_3803+cluster_id_4042+cluster_id_4208+cluster_id_4230+cluster_id_4271+cluster_id_4306+cluster_id_4329+cluster_id_4619+cluster_id_5228+cluster_id_5266+cluster_id_5534+cluster_id_5709+cluster_id_5714+cluster_id_5760+cluster_id_6077+cluster_id_6510+cluster_id_6577+cluster_id_6593+cluster_id_6602+cluster_id_6606+cluster_id_6625+cluster_id_6637+cluster_id_7184+cluster_id_7335+cluster_id_7487+cluster_id_7549+cluster_id_7584+cluster_id_7635+cluster_id_7931+cluster_id_7933+cluster_id_8012+cluster_id_8075+cluster_id_8076+cluster_id_8304+part_of_day_late_evening+part_of_day_late_morning+part_of_day_mid_day+part_of_day_morning'"
      ]
     },
     "execution_count": 22,
     "metadata": {},
     "output_type": "execute_result"
    }
   ],
   "source": [
    "df2 = df.drop(columns = col_drop2)\n",
    "col_formula2 = df2.drop(columns = ['ln_pickups', 'ln_mean_avail']).columns\n",
    "\n",
    "eq_string2 = col_formula2[0]\n",
    "for i in range(1, len(col_formula2)):\n",
    "    eq_string2 = eq_string2 + \"+\" + col_formula2[i]\n",
    "\n",
    "eq_string2"
   ]
  },
  {
   "cell_type": "code",
   "execution_count": 23,
   "metadata": {},
   "outputs": [
    {
     "name": "stdout",
     "output_type": "stream",
     "text": [
      "                            OLS Regression Results                            \n",
      "==============================================================================\n",
      "Dep. Variable:             ln_pickups   R-squared:                       0.794\n",
      "Model:                            OLS   Adj. R-squared:                  0.788\n",
      "Method:                 Least Squares   F-statistic:                     119.9\n",
      "Date:                Tue, 23 Mar 2021   Prob (F-statistic):               0.00\n",
      "Time:                        21:16:09   Log-Likelihood:                -2044.2\n",
      "No. Observations:                2825   AIC:                             4266.\n",
      "Df Residuals:                    2736   BIC:                             4796.\n",
      "Df Model:                          88                                         \n",
      "Covariance Type:            nonrobust                                         \n",
      "============================================================================================\n",
      "                               coef    std err          t      P>|t|      [0.025      0.975]\n",
      "--------------------------------------------------------------------------------------------\n",
      "Intercept                    3.2802      0.037     88.239      0.000       3.207       3.353\n",
      "ln_mean_avail                1.0988      0.017     62.969      0.000       1.065       1.133\n",
      "poi_0                        0.0541      0.019      2.790      0.005       0.016       0.092\n",
      "poi_1                        0.0263      0.012      2.188      0.029       0.003       0.050\n",
      "poi_3                        0.0489      0.015      3.231      0.001       0.019       0.079\n",
      "poi_4                       -0.0143      0.006     -2.327      0.020      -0.026      -0.002\n",
      "poi_7                        0.0151      0.006      2.590      0.010       0.004       0.027\n",
      "poi_8                        0.0844      0.017      5.110      0.000       0.052       0.117\n",
      "poi_10                       0.0339      0.009      3.794      0.000       0.016       0.051\n",
      "poi_14                      -0.0292      0.015     -1.978      0.048      -0.058      -0.000\n",
      "poi_15                       0.0688      0.015      4.491      0.000       0.039       0.099\n",
      "poi_19                       0.0185      0.007      2.544      0.011       0.004       0.033\n",
      "poi_21                       0.0343      0.011      3.253      0.001       0.014       0.055\n",
      "poi_22                      -0.0339      0.015     -2.203      0.028      -0.064      -0.004\n",
      "poi_26                       0.0210      0.010      2.019      0.044       0.001       0.041\n",
      "poi_28                       0.0440      0.016      2.678      0.007       0.012       0.076\n",
      "poi_30                       0.0201      0.010      1.961      0.050    4.82e-06       0.040\n",
      "cluster_id_142              -0.2261      0.081     -2.793      0.005      -0.385      -0.067\n",
      "cluster_id_218              -0.4804      0.104     -4.632      0.000      -0.684      -0.277\n",
      "cluster_id_356              -0.4539      0.081     -5.586      0.000      -0.613      -0.295\n",
      "cluster_id_389              -0.1304      0.089     -1.465      0.143      -0.305       0.044\n",
      "cluster_id_418              -0.4984      0.088     -5.692      0.000      -0.670      -0.327\n",
      "cluster_id_436              -0.2577      0.087     -2.967      0.003      -0.428      -0.087\n",
      "cluster_id_465              -0.5345      0.091     -5.852      0.000      -0.714      -0.355\n",
      "cluster_id_515              -0.4238      0.075     -5.630      0.000      -0.571      -0.276\n",
      "cluster_id_533              -0.2649      0.104     -2.546      0.011      -0.469      -0.061\n",
      "cluster_id_555              -0.0066      0.076     -0.087      0.931      -0.155       0.142\n",
      "cluster_id_590              -0.8960      0.113     -7.958      0.000      -1.117      -0.675\n",
      "cluster_id_1249             -0.1672      0.111     -1.509      0.132      -0.385       0.050\n",
      "cluster_id_1599             -1.4440      0.190     -7.598      0.000      -1.817      -1.071\n",
      "cluster_id_1651             -0.2216      0.163     -1.357      0.175      -0.542       0.099\n",
      "cluster_id_1786             -0.0749      0.064     -1.177      0.239      -0.200       0.050\n",
      "cluster_id_1853             -0.7744      0.082     -9.499      0.000      -0.934      -0.615\n",
      "cluster_id_1930             -0.7987      0.100     -8.010      0.000      -0.994      -0.603\n",
      "cluster_id_2000             -0.4322      0.091     -4.730      0.000      -0.611      -0.253\n",
      "cluster_id_2005             -0.6076      0.096     -6.297      0.000      -0.797      -0.418\n",
      "cluster_id_2026             -0.1566      0.069     -2.268      0.023      -0.292      -0.021\n",
      "cluster_id_2028             -0.6850      0.077     -8.870      0.000      -0.836      -0.534\n",
      "cluster_id_2157             -0.1913      0.097     -1.965      0.050      -0.382      -0.000\n",
      "cluster_id_2160             -0.7786      0.108     -7.208      0.000      -0.990      -0.567\n",
      "cluster_id_2162             -0.5650      0.127     -4.438      0.000      -0.815      -0.315\n",
      "cluster_id_2398             -0.2481      0.071     -3.511      0.000      -0.387      -0.110\n",
      "cluster_id_2448             -0.4077      0.117     -3.479      0.001      -0.637      -0.178\n",
      "cluster_id_2456             -0.2900      0.085     -3.402      0.001      -0.457      -0.123\n",
      "cluster_id_2542             -0.4051      0.100     -4.040      0.000      -0.602      -0.208\n",
      "cluster_id_2670             -0.2446      0.082     -2.983      0.003      -0.405      -0.084\n",
      "cluster_id_2947              0.5345      0.145      3.691      0.000       0.251       0.819\n",
      "cluster_id_3141             -0.3841      0.120     -3.197      0.001      -0.620      -0.148\n",
      "cluster_id_3319             -0.2621      0.125     -2.100      0.036      -0.507      -0.017\n",
      "cluster_id_3697             -0.5251      0.124     -4.242      0.000      -0.768      -0.282\n",
      "cluster_id_3722             -0.8228      0.097     -8.445      0.000      -1.014      -0.632\n",
      "cluster_id_3803             -0.2403      0.120     -2.004      0.045      -0.475      -0.005\n",
      "cluster_id_4042             -0.4694      0.104     -4.523      0.000      -0.673      -0.266\n",
      "cluster_id_4208             -0.4172      0.070     -5.974      0.000      -0.554      -0.280\n",
      "cluster_id_4230             -0.6447      0.093     -6.904      0.000      -0.828      -0.462\n",
      "cluster_id_4271             -1.1796      0.133     -8.893      0.000      -1.440      -0.920\n",
      "cluster_id_4306             -0.3039      0.110     -2.758      0.006      -0.520      -0.088\n",
      "cluster_id_4329             -0.3725      0.100     -3.735      0.000      -0.568      -0.177\n",
      "cluster_id_4619             -0.1419      0.086     -1.643      0.101      -0.311       0.027\n",
      "cluster_id_5228             -0.4197      0.097     -4.343      0.000      -0.609      -0.230\n",
      "cluster_id_5266             -0.3111      0.108     -2.892      0.004      -0.522      -0.100\n",
      "cluster_id_5534             -0.4705      0.080     -5.914      0.000      -0.627      -0.315\n",
      "cluster_id_5709             -0.9657      0.108     -8.967      0.000      -1.177      -0.755\n",
      "cluster_id_5714             -0.4796      0.115     -4.167      0.000      -0.705      -0.254\n",
      "cluster_id_5760             -0.9511      0.076    -12.477      0.000      -1.101      -0.802\n",
      "cluster_id_6077              1.9515      0.182     10.723      0.000       1.595       2.308\n",
      "cluster_id_6510             -1.2933      0.230     -5.611      0.000      -1.745      -0.841\n",
      "cluster_id_6577             -0.5368      0.090     -5.958      0.000      -0.714      -0.360\n",
      "cluster_id_6593             -0.3797      0.117     -3.240      0.001      -0.610      -0.150\n",
      "cluster_id_6602             -0.7246      0.081     -9.000      0.000      -0.882      -0.567\n",
      "cluster_id_6606             -0.6619      0.085     -7.780      0.000      -0.829      -0.495\n",
      "cluster_id_6625             -0.4898      0.120     -4.079      0.000      -0.725      -0.254\n",
      "cluster_id_6637             -0.6441      0.108     -5.951      0.000      -0.856      -0.432\n",
      "cluster_id_7184             -0.9575      0.104     -9.170      0.000      -1.162      -0.753\n",
      "cluster_id_7335             -0.5468      0.116     -4.732      0.000      -0.773      -0.320\n",
      "cluster_id_7487             -0.4812      0.085     -5.679      0.000      -0.647      -0.315\n",
      "cluster_id_7549             -0.2328      0.139     -1.670      0.095      -0.506       0.041\n",
      "cluster_id_7584             -0.3960      0.072     -5.476      0.000      -0.538      -0.254\n",
      "cluster_id_7635             -0.3814      0.114     -3.332      0.001      -0.606      -0.157\n",
      "cluster_id_7931             -0.1975      0.098     -2.024      0.043      -0.389      -0.006\n",
      "cluster_id_7933             -0.2131      0.083     -2.565      0.010      -0.376      -0.050\n",
      "cluster_id_8012             -0.3246      0.083     -3.930      0.000      -0.486      -0.163\n",
      "cluster_id_8075             -0.2326      0.104     -2.229      0.026      -0.437      -0.028\n",
      "cluster_id_8076             -0.4239      0.073     -5.772      0.000      -0.568      -0.280\n",
      "cluster_id_8304             -0.6080      0.086     -7.067      0.000      -0.777      -0.439\n",
      "part_of_day_late_evening    -1.1521      0.030    -38.527      0.000      -1.211      -1.094\n",
      "part_of_day_late_morning    -1.3523      0.030    -44.698      0.000      -1.412      -1.293\n",
      "part_of_day_mid_day         -0.5432      0.030    -18.010      0.000      -0.602      -0.484\n",
      "part_of_day_morning         -1.3867      0.030    -46.053      0.000      -1.446      -1.328\n",
      "==============================================================================\n",
      "Omnibus:                      152.930   Durbin-Watson:                   1.912\n",
      "Prob(Omnibus):                  0.000   Jarque-Bera (JB):              255.639\n",
      "Skew:                          -0.433   Prob(JB):                     3.08e-56\n",
      "Kurtosis:                       4.192   Cond. No.                         139.\n",
      "==============================================================================\n",
      "\n",
      "Warnings:\n",
      "[1] Standard Errors assume that the covariance matrix of the errors is correctly specified.\n"
     ]
    }
   ],
   "source": [
    "formula2 = 'ln_pickups ~ ln_mean_avail' + '+' + eq_string2\n",
    "mod = smf.ols(formula= formula2, data=df2)\n",
    "res = mod.fit()\n",
    "results_summary = res.summary()\n",
    "print(res.summary())"
   ]
  }
 ],
 "metadata": {
  "kernelspec": {
   "display_name": "Python 3",
   "language": "python",
   "name": "python3"
  },
  "language_info": {
   "codemirror_mode": {
    "name": "ipython",
    "version": 3
   },
   "file_extension": ".py",
   "mimetype": "text/x-python",
   "name": "python",
   "nbconvert_exporter": "python",
   "pygments_lexer": "ipython3",
   "version": "3.7.6"
  }
 },
 "nbformat": 4,
 "nbformat_minor": 4
}
